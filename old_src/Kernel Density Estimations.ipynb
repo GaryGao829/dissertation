{
 "cells": [
  {
   "cell_type": "code",
   "execution_count": 1,
   "metadata": {},
   "outputs": [],
   "source": [
    "import pandas as pd\n",
    "import matplotlib.pyplot as plt\n",
    "import matplotlib.patches as patches\n",
    "import numpy as np\n",
    "from sklearn.cluster import KMeans\n",
    "import matplotlib.colors as cs\n",
    "from sklearn import preprocessing\n",
    "import time\n",
    "from tqdm import tqdm\n",
    "\n",
    "from sklearn.decomposition import PCA\n",
    "\n",
    "from tslearn.generators import random_walks\n",
    "from tslearn.clustering import KShape,TimeSeriesScalerMeanVariance\n",
    "\n",
    "\n",
    "import seaborn as sns\n",
    "from numpy.random import randn\n",
    "import matplotlib as mpl\n",
    "from scipy import stats\n",
    "\n",
    "\n",
    "from distutils.version import LooseVersion\n",
    "from scipy.stats import norm\n",
    "from sklearn.neighbors import KernelDensity\n"
   ]
  },
  {
   "cell_type": "code",
   "execution_count": null,
   "metadata": {},
   "outputs": [],
   "source": []
  },
  {
   "cell_type": "code",
   "execution_count": 2,
   "metadata": {},
   "outputs": [],
   "source": [
    "# pre-process parameter weight dump:\n",
    "# get absolute value of : (current_weight - previous_weight) / previous_weight \n",
    "def preprocessing_weights(file_path):\n",
    "    weight = pd.read_csv(file_path,header = None)\n",
    "    for i in range(1,weight.shape[0]):\n",
    "        weight.loc[i-1,] = ((weight.loc[i,] - weight.loc[i-1,])/weight.loc[i,]).abs()\n",
    "        if(i % 500 == 0): \n",
    "            print(\"processing at line: \",i)\n",
    "    weight.drop([weight.shape[0]-1],inplace =True)\n",
    "    newfile = file_path.split('.csv')[0] + \"_weighted\" + \".csv\"\n",
    "    \n",
    "    weight.to_csv(newfile)\n",
    "    return"
   ]
  },
  {
   "cell_type": "code",
   "execution_count": 3,
   "metadata": {},
   "outputs": [],
   "source": [
    "def longest_interval(array):\n",
    "    # get all break indexes\n",
    "    \n",
    "    start = array[0]\n",
    "    end = array[-1]\n",
    "        \n",
    "    break_index = []\n",
    "    for i in range(1,len(array)):\n",
    "        if(array[i] != array[i-1] + 1):\n",
    "            break_index.append(i-1)\n",
    "            \n",
    "    # no break \n",
    "    if(len(break_index) == 0): \n",
    "        return start,end\n",
    "    # only one break\n",
    "    elif len(break_index) == 1: \n",
    "        b = break_index[0]\n",
    "        if(b > len(array) - 1 - (b+1)):\n",
    "            start = array[0]\n",
    "            end = array[b]\n",
    "        else:\n",
    "            start = array[b+1]\n",
    "            end = array[-1]\n",
    "    # more than one breaks\n",
    "    else: \n",
    "        start = array[0]\n",
    "        end = array[break_index[0]]\n",
    "        longest = break_index[0] + 1\n",
    "        for i in range(1,len(break_index)):\n",
    "            if(break_index[i] - break_index[i-1] > longest):\n",
    "                start = array[break_index[i-1] + 1]\n",
    "                end = array[break_index[i]]\n",
    "                longest = break_index[i] - break_index[i-1]\n",
    "        if(longest < array[-1] - break_index[-1]):\n",
    "            start = array[break_index[-1]+1]\n",
    "            end = array[-1]\n",
    "        \n",
    "    return start,end\n"
   ]
  },
  {
   "cell_type": "code",
   "execution_count": 4,
   "metadata": {},
   "outputs": [],
   "source": [
    "def getConvergeStartByKDE(params):\n",
    "    conv_intervals = []\n",
    "    start_conv = []\n",
    "    end_conv = []\n",
    "    count = 0\n",
    "    for param_i in tqdm(params):\n",
    "        count += 1\n",
    "        param_i_ones = np.where(param_i==1)[0]\n",
    "        param_i_ones = param_i_ones.reshape(-1,1)\n",
    "        if(len(param_i_ones) < 1):\n",
    "#             print(\"no peek !!!\")\n",
    "            conv_intervals.append((-1000,-1000))\n",
    "            start_conv.append(-1000)\n",
    "            end_conv.append(-1000)\n",
    "        else:\n",
    "            kde = KernelDensity(kernel='tophat',bandwidth = 300)\n",
    "            kde.fit(param_i_ones)\n",
    "            x_d = np.linspace(0, 5000, 5000)\n",
    "            logprob = kde.score_samples(x_d[:,None])\n",
    "\n",
    "            prob_arr = np.array(np.exp(logprob))\n",
    "            rect_start,rect_end = longest_interval(np.where(prob_arr>0)[0])\n",
    "#             print(count,\"/\",len(params),\" from: \",rect_start,\" to: \", rect_end)\n",
    "            conv_intervals.append((rect_start,rect_end))\n",
    "            start_conv.append(rect_start)\n",
    "            end_conv.append(rect_end)\n",
    "    return conv_intervals,start_conv,end_conv      \n",
    "\n",
    "# plotting related code \n",
    "#             plt.fill_between(x_d,np.exp(logprob),alpha = 0.5)\n",
    "#             plt.plot(param_i_ones,np.full_like(param_i_ones,-0.01),'|k',markeredgewidth = 1)\n",
    "\n",
    "#             rect_width= rect_end - rect_start\n",
    "#             x1 = range(0,param_i.shape[0])\n",
    "#             y1 = param_i\n",
    "#             rect = patches.Rectangle((rect_start,0),rect_width,1,linewidth=0.6,edgecolor='r',facecolor='None')\n",
    "#             fig = plt.figure()\n",
    "#             ax = fig.add_subplot(111)\n",
    "#             plt.plot(x1,y1,lw=0.6,alpha=0.5)\n",
    "#             ax.add_patch(rect)\n",
    "#             plt.show()\n"
   ]
  },
  {
   "cell_type": "code",
   "execution_count": 5,
   "metadata": {},
   "outputs": [],
   "source": [
    "def intersection(lst1, lst2): \n",
    "    lst3 = [value for value in lst1 if value in lst2] \n",
    "    return lst3 "
   ]
  },
  {
   "cell_type": "code",
   "execution_count": null,
   "metadata": {},
   "outputs": [],
   "source": []
  },
  {
   "cell_type": "code",
   "execution_count": null,
   "metadata": {},
   "outputs": [],
   "source": [
    "wei_1 = pd.read_csv(\"cifar10_vgg_trail1/weights/1_weighted.csv\").drop('Unnamed: 0',axis=1)\n",
    "upper_bound = 10\n",
    "wei_1_tran =  wei_1.transpose().clip(upper=upper_bound)\n",
    "wei_1_clip = wei_1_tran.clip(lower=0.01).replace(0.01, 0)\n",
    "min_max_scaler = preprocessing.MinMaxScaler()\n",
    "scaled_1 = min_max_scaler.fit_transform(wei_1_clip)"
   ]
  },
  {
   "cell_type": "code",
   "execution_count": 17,
   "metadata": {},
   "outputs": [
    {
     "name": "stderr",
     "output_type": "stream",
     "text": [
      "100%|██████████| 64/64 [00:00<00:00, 89.31it/s]\n"
     ]
    }
   ],
   "source": [
    "tmp1 = getConvergeStartByKDE(scaled_1)\n"
   ]
  },
  {
   "cell_type": "code",
   "execution_count": 12,
   "metadata": {},
   "outputs": [
    {
     "name": "stdout",
     "output_type": "stream",
     "text": [
      "processing at line:  500\n",
      "processing at line:  1000\n",
      "processing at line:  1500\n",
      "processing at line:  2000\n",
      "processing at line:  2500\n",
      "processing at line:  3000\n",
      "processing at line:  3500\n",
      "processing at line:  4000\n",
      "processing at line:  4500\n"
     ]
    }
   ],
   "source": [
    "preprocessing_weights('cifar10_vgg_trail2/weights/1.csv')"
   ]
  },
  {
   "cell_type": "code",
   "execution_count": 18,
   "metadata": {},
   "outputs": [],
   "source": [
    "wei_2_1 = pd.read_csv(\"cifar10_vgg_trail2/weights/1_weighted.csv\").drop('Unnamed: 0',axis=1)\n",
    "upper_bound = 10\n",
    "wei_2_1_tran =  wei_2_1.transpose().clip(upper=upper_bound)\n",
    "wei_2_1_clip = wei_2_1_tran.clip(lower=0.01).replace(0.01, 0)\n",
    "min_max_scaler = preprocessing.MinMaxScaler()\n",
    "scaled_2_1 = min_max_scaler.fit_transform(wei_2_1_clip)"
   ]
  },
  {
   "cell_type": "code",
   "execution_count": 19,
   "metadata": {},
   "outputs": [
    {
     "name": "stderr",
     "output_type": "stream",
     "text": [
      "100%|██████████| 64/64 [00:00<00:00, 85.33it/s] \n"
     ]
    }
   ],
   "source": [
    "tmp2 = getConvergeStartByKDE(scaled_2_1)"
   ]
  },
  {
   "cell_type": "code",
   "execution_count": 26,
   "metadata": {},
   "outputs": [],
   "source": [
    "tmp_li = []\n",
    "for i in range(0,len(tmp)):\n",
    "    if(tmp[i][0] == 0):\n",
    "        tmp_li.append(i)"
   ]
  },
  {
   "cell_type": "code",
   "execution_count": 27,
   "metadata": {},
   "outputs": [],
   "source": [
    "tmp_li_2 = []\n",
    "for i in range(0,len(tmp2)):\n",
    "    if(tmp2[i][0] == 0):\n",
    "        tmp_li_2.append(i)"
   ]
  },
  {
   "cell_type": "code",
   "execution_count": 31,
   "metadata": {},
   "outputs": [],
   "source": [
    "inter = intersection(tmp_li,tmp_li_2)"
   ]
  },
  {
   "cell_type": "code",
   "execution_count": 35,
   "metadata": {},
   "outputs": [
    {
     "name": "stdout",
     "output_type": "stream",
     "text": [
      "13\n",
      "29\n",
      "31\n"
     ]
    }
   ],
   "source": [
    "print(len(inter))\n",
    "print(len(tmp_li))\n",
    "print(len(tmp_li_2))\n"
   ]
  },
  {
   "cell_type": "code",
   "execution_count": 8,
   "metadata": {},
   "outputs": [
    {
     "name": "stdout",
     "output_type": "stream",
     "text": [
      "processing at line:  500\n",
      "processing at line:  1000\n",
      "processing at line:  1500\n",
      "processing at line:  2000\n",
      "processing at line:  2500\n",
      "processing at line:  3000\n",
      "processing at line:  3500\n",
      "processing at line:  4000\n",
      "processing at line:  4500\n"
     ]
    }
   ],
   "source": [
    "preprocessing_weights('cifar10_vgg_trail2/weights/7.csv')"
   ]
  },
  {
   "cell_type": "code",
   "execution_count": 31,
   "metadata": {},
   "outputs": [
    {
     "name": "stderr",
     "output_type": "stream",
     "text": [
      "100%|██████████| 128/128 [00:00<00:00, 210.63it/s]\n"
     ]
    }
   ],
   "source": [
    "wei_7 = pd.read_csv(\"cifar10_vgg_trail1/weights/7_weighted.csv\").drop('Unnamed: 0',axis=1)\n",
    "upper_bound = 10\n",
    "wei_7_tran =  wei_7.transpose().clip(upper=upper_bound)\n",
    "wei_7_clip = wei_7_tran.clip(lower=0.01).replace(0.01, 0)\n",
    "min_max_scaler = preprocessing.MinMaxScaler()\n",
    "scaled_7 = min_max_scaler.fit_transform(wei_7_clip)\n",
    "\n",
    "kde_7,start_conv_l7,end_conv_l7 = getConvergeStartByKDE(scaled_7)\n"
   ]
  },
  {
   "cell_type": "code",
   "execution_count": 32,
   "metadata": {},
   "outputs": [
    {
     "name": "stderr",
     "output_type": "stream",
     "text": [
      "100%|██████████| 128/128 [00:00<00:00, 208.03it/s]\n"
     ]
    }
   ],
   "source": [
    "wei_2_7 = pd.read_csv(\"cifar10_vgg_trail2/weights/7_weighted.csv\").drop('Unnamed: 0',axis=1)\n",
    "upper_bound = 10\n",
    "wei_2_7_tran =  wei_2_7.transpose().clip(upper=upper_bound)\n",
    "wei_2_7_clip = wei_2_7_tran.clip(lower=0.01).replace(0.01, 0)\n",
    "min_max_scaler = preprocessing.MinMaxScaler()\n",
    "scaled_2_7 = min_max_scaler.fit_transform(wei_2_7_clip)\n",
    "kde_2_7,start_conv_2_l7,end_conv_2_l7 = getConvergeStartByKDE(scaled_2_7)"
   ]
  },
  {
   "cell_type": "code",
   "execution_count": 10,
   "metadata": {},
   "outputs": [],
   "source": [
    "# tmp_li = []\n",
    "# for i in range(0,len(kde_7)):\n",
    "#     if(kde_7[i][0] == 0):\n",
    "#         tmp_li.append(i)\n",
    "# tmp_li_2 = []\n",
    "# for i in range(0,len(kde_2_7)):\n",
    "#     if(kde_2_7[i][0] == 0):\n",
    "#         tmp_li_2.append(i)\n",
    "# inter = intersection(tmp_li,tmp_li_2)\n",
    "# print(len(inter))\n",
    "# print(len(tmp_li))\n",
    "# print(len(tmp_li_2))\n"
   ]
  },
  {
   "cell_type": "markdown",
   "metadata": {},
   "source": [
    "## visualize difference in layer 7"
   ]
  },
  {
   "cell_type": "code",
   "execution_count": 34,
   "metadata": {},
   "outputs": [
    {
     "name": "stderr",
     "output_type": "stream",
     "text": [
      "/userhome/34/gyu/anaconda3/envs/tensorflow2/lib/python3.6/site-packages/matplotlib/tight_layout.py:199: UserWarning: Tight layout not applied. tight_layout cannot make axes width small enough to accommodate all axes decorations\n",
      "  warnings.warn('Tight layout not applied. '\n"
     ]
    },
    {
     "data": {
      "text/plain": [
       "<seaborn.axisgrid.JointGrid at 0x7f580c26ca58>"
      ]
     },
     "execution_count": 34,
     "metadata": {},
     "output_type": "execute_result"
    },
    {
     "data": {
      "image/png": "[encoded data removed]",
      "text/plain": [
       "<Figure size 576x576 with 3 Axes>"
      ]
     },
     "metadata": {
      "needs_background": "light"
     },
     "output_type": "display_data"
    }
   ],
   "source": [
    "grid = sns.JointGrid(start_conv_l7, start_conv_2_l7, space=0, height=8, ratio=50)\n",
    "grid.plot_joint(plt.scatter, color=\"g\")\n",
    "grid.plot_marginals(sns.rugplot, height=1, color=\"g\")"
   ]
  },
  {
   "cell_type": "markdown",
   "metadata": {},
   "source": [
    "## visualize difference in layer 4 and 5"
   ]
  },
  {
   "cell_type": "code",
   "execution_count": 38,
   "metadata": {},
   "outputs": [
    {
     "name": "stdout",
     "output_type": "stream",
     "text": [
      "processing at line:  500\n",
      "processing at line:  1000\n",
      "processing at line:  1500\n",
      "processing at line:  2000\n",
      "processing at line:  2500\n",
      "processing at line:  3000\n",
      "processing at line:  3500\n",
      "processing at line:  4000\n",
      "processing at line:  4500\n"
     ]
    }
   ],
   "source": [
    "preprocessing_weights('cifar10_vgg_trail2/weights/5.csv')"
   ]
  },
  {
   "cell_type": "code",
   "execution_count": 39,
   "metadata": {},
   "outputs": [
    {
     "name": "stderr",
     "output_type": "stream",
     "text": [
      "100%|██████████| 128/128 [00:00<00:00, 134.79it/s]\n"
     ]
    }
   ],
   "source": [
    "wei_5 = pd.read_csv(\"cifar10_vgg_trail1/weights/5_weighted.csv\").drop('Unnamed: 0',axis=1)\n",
    "upper_bound = 10\n",
    "wei_5_tran =  wei_5.transpose().clip(upper=upper_bound)\n",
    "wei_5_clip = wei_5_tran.clip(lower=0.01).replace(0.01, 0)\n",
    "min_max_scaler = preprocessing.MinMaxScaler()\n",
    "scaled_5 = min_max_scaler.fit_transform(wei_5_clip)\n",
    "\n",
    "kde_5,start_conv_l5,end_conv_l5 = getConvergeStartByKDE(scaled_5)\n"
   ]
  },
  {
   "cell_type": "code",
   "execution_count": 40,
   "metadata": {},
   "outputs": [
    {
     "name": "stderr",
     "output_type": "stream",
     "text": [
      "100%|██████████| 128/128 [00:00<00:00, 193.45it/s]\n"
     ]
    }
   ],
   "source": [
    "wei_2_5 = pd.read_csv(\"cifar10_vgg_trail2/weights/5_weighted.csv\").drop('Unnamed: 0',axis=1)\n",
    "upper_bound = 10\n",
    "wei_2_5_tran =  wei_2_5.transpose().clip(upper=upper_bound)\n",
    "wei_2_5_clip = wei_2_5_tran.clip(lower=0.01).replace(0.01, 0)\n",
    "min_max_scaler = preprocessing.MinMaxScaler()\n",
    "scaled_2_5 = min_max_scaler.fit_transform(wei_2_5_clip)\n",
    "kde_2_5,start_conv_2_l5,end_conv_2_l5 = getConvergeStartByKDE(scaled_2_5)"
   ]
  },
  {
   "cell_type": "code",
   "execution_count": 41,
   "metadata": {},
   "outputs": [
    {
     "name": "stderr",
     "output_type": "stream",
     "text": [
      "/userhome/34/gyu/anaconda3/envs/tensorflow2/lib/python3.6/site-packages/matplotlib/tight_layout.py:199: UserWarning: Tight layout not applied. tight_layout cannot make axes width small enough to accommodate all axes decorations\n",
      "  warnings.warn('Tight layout not applied. '\n"
     ]
    },
    {
     "data": {
      "text/plain": [
       "<seaborn.axisgrid.JointGrid at 0x7f57b911a978>"
      ]
     },
     "execution_count": 41,
     "metadata": {},
     "output_type": "execute_result"
    },
    {
     "data": {
      "image/png": "[encoded data removed]",
      "text/plain": [
       "<Figure size 576x576 with 3 Axes>"
      ]
     },
     "metadata": {
      "needs_background": "light"
     },
     "output_type": "display_data"
    }
   ],
   "source": [
    "grid = sns.JointGrid(start_conv_l5, start_conv_2_l5, space=0, height=8, ratio=50)\n",
    "grid.plot_joint(plt.scatter, color=\"g\")\n",
    "grid.plot_marginals(sns.rugplot, height=1, color=\"g\")"
   ]
  },
  {
   "cell_type": "code",
   "execution_count": 42,
   "metadata": {},
   "outputs": [
    {
     "name": "stdout",
     "output_type": "stream",
     "text": [
      "processing at line:  500\n",
      "processing at line:  1000\n",
      "processing at line:  1500\n",
      "processing at line:  2000\n",
      "processing at line:  2500\n",
      "processing at line:  3000\n",
      "processing at line:  3500\n",
      "processing at line:  4000\n",
      "processing at line:  4500\n"
     ]
    }
   ],
   "source": [
    "preprocessing_weights('cifar10_vgg_trail2/weights/4.csv')"
   ]
  },
  {
   "cell_type": "code",
   "execution_count": 8,
   "metadata": {},
   "outputs": [
    {
     "name": "stderr",
     "output_type": "stream",
     "text": [
      "100%|██████████| 73728/73728 [01:21<00:00, 901.98it/s] \n"
     ]
    }
   ],
   "source": [
    "wei_4 = pd.read_csv(\"cifar10_vgg_trail1/weights/4_weighted.csv\").drop('Unnamed: 0',axis=1)\n",
    "upper_bound = 10\n",
    "wei_4_tran =  wei_4.transpose().clip(upper=upper_bound)\n",
    "wei_4_clip = wei_4_tran.clip(lower=0.01).replace(0.01, 0)\n",
    "min_max_scaler = preprocessing.MinMaxScaler()\n",
    "scaled_4 = min_max_scaler.fit_transform(wei_4_clip)\n",
    "\n",
    "kde_4,start_conv_l4,end_conv_l4 = getConvergeStartByKDE(scaled_4)\n",
    "np.save(\"cifar10_vgg_trail1/weights/4_start_conv\",start_conv_l4)"
   ]
  },
  {
   "cell_type": "code",
   "execution_count": 6,
   "metadata": {},
   "outputs": [
    {
     "name": "stderr",
     "output_type": "stream",
     "text": [
      "100%|██████████| 73728/73728 [01:22<00:00, 893.46it/s] \n"
     ]
    }
   ],
   "source": [
    "wei_2_4 = pd.read_csv(\"cifar10_vgg_trail2/weights/4_weighted.csv\").drop('Unnamed: 0',axis=1)\n",
    "upper_bound = 10\n",
    "wei_2_4_tran =  wei_2_4.transpose().clip(upper=upper_bound)\n",
    "wei_2_4_clip = wei_2_4_tran.clip(lower=0.01).replace(0.01, 0)\n",
    "min_max_scaler = preprocessing.MinMaxScaler()\n",
    "scaled_2_4 = min_max_scaler.fit_transform(wei_2_4_clip)\n",
    "kde_2_4,start_conv_2_l4,end_conv_2_l4 = getConvergeStartByKDE(scaled_2_4)\n",
    "np.save(\"cifar10_vgg_trail2/weights/4_start_conv\",start_conv_2_l4)"
   ]
  },
  {
   "cell_type": "code",
   "execution_count": 15,
   "metadata": {},
   "outputs": [
    {
     "name": "stderr",
     "output_type": "stream",
     "text": [
      "/userhome/34/gyu/anaconda3/envs/tensorflow2/lib/python3.6/site-packages/matplotlib/tight_layout.py:199: UserWarning: Tight layout not applied. tight_layout cannot make axes width small enough to accommodate all axes decorations\n",
      "  warnings.warn('Tight layout not applied. '\n"
     ]
    },
    {
     "data": {
      "text/plain": [
       "<seaborn.axisgrid.JointGrid at 0x7fb12f22ec88>"
      ]
     },
     "execution_count": 15,
     "metadata": {},
     "output_type": "execute_result"
    },
    {
     "data": {
      "image/png": "[encoded data removed]",
      "text/plain": [
       "<Figure size 576x576 with 3 Axes>"
      ]
     },
     "metadata": {
      "needs_background": "light"
     },
     "output_type": "display_data"
    }
   ],
   "source": [
    "start_conv_l4 = np.load(\"cifar10_vgg_trail1/weights/4_start_conv.npy\")\n",
    "grid = sns.JointGrid(start_conv_l4, start_conv_2_l4, space=0, height=8, ratio=50)\n",
    "grid.plot_joint(plt.scatter, color=\"g\")\n",
    "grid.plot_marginals(sns.rugplot, height=1, color=\"g\")"
   ]
  },
  {
   "cell_type": "code",
   "execution_count": 21,
   "metadata": {},
   "outputs": [],
   "source": [
    "interse = intersection(start_conv_l4,start_conv_2_l4)"
   ]
  },
  {
   "cell_type": "code",
   "execution_count": 31,
   "metadata": {},
   "outputs": [
    {
     "data": {
      "text/plain": [
       "{-1000: 54654,\n",
       " 0: 1520,\n",
       " 1: 7,\n",
       " 2: 6,\n",
       " 3: 5,\n",
       " 4: 3,\n",
       " 5: 4,\n",
       " 6: 6,\n",
       " 7: 6,\n",
       " 9: 2,\n",
       " 10: 2,\n",
       " 11: 4,\n",
       " 12: 6,\n",
       " 13: 6,\n",
       " 14: 4,\n",
       " 15: 5,\n",
       " 16: 4,\n",
       " 17: 4,\n",
       " 18: 7,\n",
       " 19: 4,\n",
       " 20: 6,\n",
       " 21: 13,\n",
       " 22: 5,\n",
       " 23: 4,\n",
       " 24: 10,\n",
       " 25: 9,\n",
       " 26: 4,\n",
       " 27: 4,\n",
       " 28: 4,\n",
       " 29: 7,\n",
       " 30: 1,\n",
       " 31: 9,\n",
       " 32: 4,\n",
       " 33: 6,\n",
       " 34: 8,\n",
       " 35: 3,\n",
       " 36: 1,\n",
       " 37: 8,\n",
       " 38: 10,\n",
       " 39: 11,\n",
       " 40: 3,\n",
       " 41: 5,\n",
       " 42: 7,\n",
       " 43: 5,\n",
       " 44: 5,\n",
       " 45: 6,\n",
       " 46: 5,\n",
       " 47: 5,\n",
       " 48: 4,\n",
       " 49: 3,\n",
       " 50: 7,\n",
       " 51: 7,\n",
       " 52: 7,\n",
       " 53: 1,\n",
       " 54: 7,\n",
       " 55: 6,\n",
       " 56: 3,\n",
       " 57: 4,\n",
       " 58: 4,\n",
       " 59: 10,\n",
       " 60: 5,\n",
       " 61: 5,\n",
       " 62: 2,\n",
       " 63: 4,\n",
       " 64: 9,\n",
       " 65: 6,\n",
       " 66: 5,\n",
       " 67: 5,\n",
       " 68: 5,\n",
       " 69: 6,\n",
       " 70: 1,\n",
       " 71: 8,\n",
       " 72: 9,\n",
       " 73: 10,\n",
       " 74: 3,\n",
       " 75: 1,\n",
       " 76: 4,\n",
       " 77: 3,\n",
       " 78: 5,\n",
       " 79: 3,\n",
       " 80: 6,\n",
       " 81: 12,\n",
       " 82: 5,\n",
       " 83: 4,\n",
       " 84: 5,\n",
       " 85: 5,\n",
       " 87: 2,\n",
       " 88: 3,\n",
       " 89: 6,\n",
       " 90: 11,\n",
       " 91: 2,\n",
       " 92: 4,\n",
       " 93: 9,\n",
       " 94: 7,\n",
       " 95: 9,\n",
       " 96: 6,\n",
       " 97: 1,\n",
       " 98: 5,\n",
       " 99: 8,\n",
       " 100: 15,\n",
       " 101: 5,\n",
       " 102: 5,\n",
       " 103: 7,\n",
       " 104: 5,\n",
       " 105: 5,\n",
       " 106: 4,\n",
       " 107: 5,\n",
       " 108: 8,\n",
       " 110: 5,\n",
       " 111: 3,\n",
       " 112: 5,\n",
       " 113: 8,\n",
       " 114: 1,\n",
       " 115: 3,\n",
       " 116: 4,\n",
       " 117: 6,\n",
       " 118: 6,\n",
       " 119: 7,\n",
       " 120: 1,\n",
       " 121: 5,\n",
       " 122: 5,\n",
       " 123: 14,\n",
       " 124: 5,\n",
       " 125: 6,\n",
       " 126: 2,\n",
       " 127: 5,\n",
       " 128: 4,\n",
       " 129: 5,\n",
       " 130: 4,\n",
       " 131: 2,\n",
       " 132: 3,\n",
       " 133: 1,\n",
       " 134: 4,\n",
       " 135: 5,\n",
       " 136: 5,\n",
       " 137: 5,\n",
       " 138: 5,\n",
       " 139: 3,\n",
       " 140: 3,\n",
       " 141: 3,\n",
       " 142: 6,\n",
       " 143: 2,\n",
       " 144: 3,\n",
       " 145: 2,\n",
       " 146: 1,\n",
       " 147: 6,\n",
       " 148: 1,\n",
       " 149: 5,\n",
       " 150: 9,\n",
       " 151: 7,\n",
       " 152: 4,\n",
       " 153: 4,\n",
       " 154: 9,\n",
       " 155: 6,\n",
       " 156: 14,\n",
       " 157: 7,\n",
       " 158: 3,\n",
       " 159: 4,\n",
       " 160: 13,\n",
       " 161: 8,\n",
       " 162: 13,\n",
       " 163: 4,\n",
       " 164: 5,\n",
       " 165: 7,\n",
       " 166: 7,\n",
       " 167: 6,\n",
       " 168: 11,\n",
       " 169: 7,\n",
       " 170: 4,\n",
       " 171: 5,\n",
       " 172: 5,\n",
       " 173: 5,\n",
       " 174: 5,\n",
       " 175: 5,\n",
       " 176: 4,\n",
       " 177: 9,\n",
       " 178: 4,\n",
       " 179: 1,\n",
       " 180: 1,\n",
       " 181: 5,\n",
       " 182: 10,\n",
       " 183: 3,\n",
       " 184: 4,\n",
       " 185: 12,\n",
       " 186: 5,\n",
       " 187: 4,\n",
       " 188: 6,\n",
       " 189: 5,\n",
       " 190: 4,\n",
       " 191: 1,\n",
       " 192: 4,\n",
       " 193: 4,\n",
       " 194: 6,\n",
       " 195: 5,\n",
       " 196: 1,\n",
       " 197: 6,\n",
       " 198: 5,\n",
       " 199: 10,\n",
       " 200: 5,\n",
       " 201: 7,\n",
       " 202: 4,\n",
       " 203: 4,\n",
       " 204: 4,\n",
       " 205: 4,\n",
       " 206: 5,\n",
       " 207: 5,\n",
       " 208: 4,\n",
       " 209: 11,\n",
       " 210: 8,\n",
       " 211: 4,\n",
       " 212: 16,\n",
       " 213: 5,\n",
       " 214: 7,\n",
       " 215: 7,\n",
       " 216: 8,\n",
       " 217: 6,\n",
       " 218: 7,\n",
       " 219: 2,\n",
       " 220: 6,\n",
       " 221: 4,\n",
       " 222: 5,\n",
       " 223: 4,\n",
       " 224: 6,\n",
       " 225: 7,\n",
       " 226: 9,\n",
       " 227: 3,\n",
       " 228: 5,\n",
       " 229: 5,\n",
       " 230: 6,\n",
       " 231: 7,\n",
       " 232: 3,\n",
       " 233: 3,\n",
       " 234: 2,\n",
       " 235: 8,\n",
       " 236: 5,\n",
       " 237: 4,\n",
       " 238: 4,\n",
       " 239: 8,\n",
       " 241: 6,\n",
       " 242: 4,\n",
       " 243: 5,\n",
       " 244: 7,\n",
       " 245: 5,\n",
       " 246: 2,\n",
       " 247: 8,\n",
       " 248: 5,\n",
       " 249: 3,\n",
       " 250: 4,\n",
       " 251: 7,\n",
       " 252: 4,\n",
       " 253: 4,\n",
       " 255: 4,\n",
       " 256: 6,\n",
       " 257: 5,\n",
       " 258: 9,\n",
       " 259: 1,\n",
       " 260: 7,\n",
       " 261: 12,\n",
       " 262: 5,\n",
       " 263: 7,\n",
       " 264: 5,\n",
       " 265: 1,\n",
       " 266: 1,\n",
       " 267: 3,\n",
       " 268: 4,\n",
       " 269: 4,\n",
       " 270: 6,\n",
       " 271: 4,\n",
       " 272: 5,\n",
       " 273: 4,\n",
       " 274: 6,\n",
       " 275: 1,\n",
       " 276: 2,\n",
       " 277: 2,\n",
       " 278: 4,\n",
       " 279: 3,\n",
       " 280: 6,\n",
       " 281: 7,\n",
       " 282: 4,\n",
       " 283: 5,\n",
       " 284: 4,\n",
       " 285: 3,\n",
       " 286: 4,\n",
       " 287: 6,\n",
       " 288: 5,\n",
       " 289: 2,\n",
       " 290: 4,\n",
       " 291: 2,\n",
       " 292: 3,\n",
       " 293: 4,\n",
       " 294: 3,\n",
       " 295: 4,\n",
       " 296: 1,\n",
       " 297: 4,\n",
       " 298: 2,\n",
       " 299: 8,\n",
       " 300: 6,\n",
       " 301: 1,\n",
       " 302: 2,\n",
       " 303: 7,\n",
       " 304: 4,\n",
       " 305: 8,\n",
       " 306: 4,\n",
       " 308: 5,\n",
       " 309: 6,\n",
       " 310: 2,\n",
       " 311: 1,\n",
       " 312: 11,\n",
       " 313: 3,\n",
       " 314: 4,\n",
       " 315: 8,\n",
       " 316: 4,\n",
       " 317: 3,\n",
       " 318: 15,\n",
       " 319: 7,\n",
       " 320: 5,\n",
       " 321: 4,\n",
       " 322: 8,\n",
       " 324: 6,\n",
       " 325: 5,\n",
       " 326: 6,\n",
       " 327: 3,\n",
       " 328: 6,\n",
       " 329: 6,\n",
       " 330: 6,\n",
       " 331: 3,\n",
       " 332: 5,\n",
       " 333: 9,\n",
       " 334: 3,\n",
       " 335: 1,\n",
       " 336: 3,\n",
       " 337: 4,\n",
       " 338: 3,\n",
       " 339: 5,\n",
       " 340: 3,\n",
       " 341: 10,\n",
       " 342: 4,\n",
       " 343: 3,\n",
       " 344: 5,\n",
       " 345: 5,\n",
       " 346: 3,\n",
       " 347: 3,\n",
       " 348: 4,\n",
       " 349: 6,\n",
       " 350: 3,\n",
       " 351: 2,\n",
       " 352: 7,\n",
       " 353: 6,\n",
       " 354: 2,\n",
       " 356: 7,\n",
       " 357: 7,\n",
       " 358: 9,\n",
       " 359: 3,\n",
       " 360: 9,\n",
       " 361: 4,\n",
       " 363: 4,\n",
       " 365: 2,\n",
       " 366: 3,\n",
       " 367: 6,\n",
       " 368: 3,\n",
       " 369: 4,\n",
       " 370: 2,\n",
       " 371: 6,\n",
       " 372: 7,\n",
       " 373: 3,\n",
       " 374: 4,\n",
       " 375: 6,\n",
       " 376: 7,\n",
       " 377: 7,\n",
       " 378: 3,\n",
       " 379: 8,\n",
       " 380: 5,\n",
       " 381: 2,\n",
       " 382: 7,\n",
       " 383: 5,\n",
       " 384: 2,\n",
       " 385: 2,\n",
       " 386: 4,\n",
       " 387: 5,\n",
       " 388: 6,\n",
       " 389: 4,\n",
       " 390: 3,\n",
       " 391: 10,\n",
       " 392: 9,\n",
       " 393: 8,\n",
       " 394: 6,\n",
       " 395: 5,\n",
       " 396: 4,\n",
       " 397: 4,\n",
       " 398: 3,\n",
       " 399: 3,\n",
       " 400: 8,\n",
       " 401: 4,\n",
       " 402: 5,\n",
       " 403: 7,\n",
       " 404: 5,\n",
       " 405: 5,\n",
       " 406: 5,\n",
       " 407: 3,\n",
       " 408: 13,\n",
       " 409: 4,\n",
       " 410: 4,\n",
       " 411: 3,\n",
       " 412: 3,\n",
       " 413: 12,\n",
       " 414: 4,\n",
       " 415: 2,\n",
       " 416: 10,\n",
       " 417: 6,\n",
       " 418: 3,\n",
       " 419: 2,\n",
       " 420: 8,\n",
       " 421: 4,\n",
       " 422: 4,\n",
       " 423: 3,\n",
       " 424: 4,\n",
       " 425: 5,\n",
       " 426: 3,\n",
       " 427: 6,\n",
       " 428: 4,\n",
       " 429: 4,\n",
       " 430: 1,\n",
       " 431: 4,\n",
       " 432: 7,\n",
       " 433: 3,\n",
       " 434: 1,\n",
       " 435: 6,\n",
       " 436: 4,\n",
       " 437: 6,\n",
       " 438: 3,\n",
       " 439: 6,\n",
       " 440: 6,\n",
       " 441: 2,\n",
       " 442: 3,\n",
       " 443: 1,\n",
       " 444: 7,\n",
       " 445: 7,\n",
       " 446: 4,\n",
       " 447: 2,\n",
       " 448: 9,\n",
       " 449: 5,\n",
       " 450: 3,\n",
       " 451: 6,\n",
       " 452: 5,\n",
       " 453: 3,\n",
       " 454: 1,\n",
       " 455: 15,\n",
       " 456: 13,\n",
       " 457: 6,\n",
       " 458: 3,\n",
       " 459: 8,\n",
       " 460: 4,\n",
       " 461: 4,\n",
       " 462: 8,\n",
       " 463: 7,\n",
       " 464: 6,\n",
       " 465: 6,\n",
       " 466: 8,\n",
       " 467: 4,\n",
       " 468: 5,\n",
       " 469: 4,\n",
       " 470: 5,\n",
       " 471: 6,\n",
       " 472: 4,\n",
       " 473: 6,\n",
       " 474: 5,\n",
       " 475: 3,\n",
       " 476: 2,\n",
       " 477: 2,\n",
       " 478: 6,\n",
       " 479: 4,\n",
       " 480: 5,\n",
       " 481: 5,\n",
       " 482: 3,\n",
       " 483: 9,\n",
       " 484: 5,\n",
       " 485: 3,\n",
       " 486: 6,\n",
       " 487: 5,\n",
       " 488: 5,\n",
       " 489: 4,\n",
       " 490: 3,\n",
       " 491: 3,\n",
       " 492: 6,\n",
       " 493: 3,\n",
       " 494: 7,\n",
       " 495: 1,\n",
       " 496: 5,\n",
       " 497: 5,\n",
       " 498: 4,\n",
       " 499: 5,\n",
       " 500: 4,\n",
       " 501: 7,\n",
       " 502: 9,\n",
       " 503: 5,\n",
       " 504: 4,\n",
       " 505: 8,\n",
       " 506: 5,\n",
       " 507: 1,\n",
       " 508: 6,\n",
       " 509: 8,\n",
       " 510: 4,\n",
       " 511: 3,\n",
       " 512: 4,\n",
       " 513: 9,\n",
       " 514: 3,\n",
       " 515: 7,\n",
       " 516: 8,\n",
       " 517: 5,\n",
       " 518: 7,\n",
       " 519: 10,\n",
       " 520: 5,\n",
       " 521: 3,\n",
       " 522: 3,\n",
       " 523: 2,\n",
       " 524: 3,\n",
       " 525: 4,\n",
       " 526: 7,\n",
       " 527: 6,\n",
       " 528: 6,\n",
       " 529: 7,\n",
       " 530: 3,\n",
       " 531: 4,\n",
       " 532: 4,\n",
       " 533: 5,\n",
       " 534: 4,\n",
       " 535: 5,\n",
       " 536: 6,\n",
       " 537: 6,\n",
       " 538: 7,\n",
       " 539: 1,\n",
       " 540: 3,\n",
       " 541: 3,\n",
       " 542: 4,\n",
       " 543: 5,\n",
       " 544: 4,\n",
       " 545: 7,\n",
       " 546: 8,\n",
       " 547: 7,\n",
       " 548: 6,\n",
       " 549: 2,\n",
       " 550: 4,\n",
       " 551: 5,\n",
       " 552: 1,\n",
       " 553: 4,\n",
       " 554: 5,\n",
       " 555: 6,\n",
       " 557: 6,\n",
       " 558: 7,\n",
       " 559: 3,\n",
       " 560: 11,\n",
       " 561: 9,\n",
       " 562: 8,\n",
       " 563: 8,\n",
       " 564: 6,\n",
       " 565: 7,\n",
       " 566: 5,\n",
       " 567: 8,\n",
       " 568: 2,\n",
       " 569: 5,\n",
       " 570: 3,\n",
       " 571: 10,\n",
       " 572: 5,\n",
       " 573: 6,\n",
       " 574: 3,\n",
       " 576: 2,\n",
       " 577: 6,\n",
       " 578: 5,\n",
       " 579: 2,\n",
       " 580: 8,\n",
       " 581: 3,\n",
       " 582: 5,\n",
       " 583: 5,\n",
       " 584: 4,\n",
       " 585: 4,\n",
       " 586: 5,\n",
       " 587: 6,\n",
       " 588: 10,\n",
       " 589: 6,\n",
       " 590: 2,\n",
       " 591: 2,\n",
       " 592: 4,\n",
       " 593: 6,\n",
       " 594: 6,\n",
       " 595: 5,\n",
       " 596: 7,\n",
       " 598: 3,\n",
       " 599: 6,\n",
       " 600: 1,\n",
       " 601: 3,\n",
       " 602: 1,\n",
       " 603: 5,\n",
       " 604: 1,\n",
       " 605: 8,\n",
       " 606: 2,\n",
       " 607: 4,\n",
       " 608: 4,\n",
       " 609: 6,\n",
       " 610: 7,\n",
       " 611: 6,\n",
       " 612: 6,\n",
       " 613: 10,\n",
       " 614: 3,\n",
       " 615: 2,\n",
       " 616: 2,\n",
       " 617: 7,\n",
       " 618: 1,\n",
       " 619: 4,\n",
       " 620: 3,\n",
       " 621: 9,\n",
       " 622: 5,\n",
       " 623: 6,\n",
       " 624: 5,\n",
       " 625: 3,\n",
       " 626: 5,\n",
       " 627: 7,\n",
       " 628: 4,\n",
       " 629: 7,\n",
       " 630: 7,\n",
       " 631: 5,\n",
       " 632: 4,\n",
       " 633: 2,\n",
       " 634: 5,\n",
       " 635: 4,\n",
       " 636: 7,\n",
       " 637: 10,\n",
       " 638: 2,\n",
       " 639: 7,\n",
       " 640: 2,\n",
       " 641: 4,\n",
       " 642: 13,\n",
       " 643: 8,\n",
       " 644: 3,\n",
       " 645: 1,\n",
       " 646: 3,\n",
       " 647: 4,\n",
       " 648: 2,\n",
       " 649: 5,\n",
       " 650: 4,\n",
       " 651: 6,\n",
       " 652: 8,\n",
       " 653: 4,\n",
       " 654: 5,\n",
       " 655: 7,\n",
       " 656: 5,\n",
       " 657: 4,\n",
       " 658: 4,\n",
       " 659: 6,\n",
       " 660: 8,\n",
       " 661: 4,\n",
       " 662: 5,\n",
       " 663: 4,\n",
       " 664: 7,\n",
       " 665: 2,\n",
       " 666: 10,\n",
       " 667: 3,\n",
       " 668: 4,\n",
       " 669: 2,\n",
       " 670: 1,\n",
       " 671: 5,\n",
       " 672: 5,\n",
       " 673: 7,\n",
       " 674: 4,\n",
       " 675: 5,\n",
       " 676: 4,\n",
       " 677: 3,\n",
       " 678: 4,\n",
       " 679: 2,\n",
       " 680: 7,\n",
       " 681: 2,\n",
       " 682: 3,\n",
       " 683: 4,\n",
       " 684: 9,\n",
       " 685: 14,\n",
       " 686: 7,\n",
       " 687: 6,\n",
       " 688: 3,\n",
       " 689: 1,\n",
       " 690: 6,\n",
       " 691: 6,\n",
       " 692: 5,\n",
       " 693: 6,\n",
       " 694: 8,\n",
       " 695: 3,\n",
       " 696: 1,\n",
       " 697: 2,\n",
       " 698: 3,\n",
       " 699: 4,\n",
       " 700: 3,\n",
       " 701: 3,\n",
       " 702: 10,\n",
       " 703: 9,\n",
       " 704: 5,\n",
       " 705: 4,\n",
       " 706: 4,\n",
       " 707: 3,\n",
       " 708: 3,\n",
       " 709: 4,\n",
       " 710: 6,\n",
       " 711: 4,\n",
       " 712: 2,\n",
       " 713: 4,\n",
       " 714: 3,\n",
       " 715: 4,\n",
       " 716: 3,\n",
       " 717: 1,\n",
       " 718: 4,\n",
       " 719: 6,\n",
       " 720: 7,\n",
       " 721: 7,\n",
       " 722: 5,\n",
       " 723: 7,\n",
       " 724: 10,\n",
       " 725: 9,\n",
       " 726: 7,\n",
       " 727: 3,\n",
       " 728: 5,\n",
       " 729: 3,\n",
       " 730: 9,\n",
       " 731: 5,\n",
       " 732: 4,\n",
       " 734: 5,\n",
       " 735: 4,\n",
       " 736: 2,\n",
       " 737: 4,\n",
       " 738: 7,\n",
       " 739: 4,\n",
       " 740: 2,\n",
       " 742: 4,\n",
       " 743: 14,\n",
       " 744: 1,\n",
       " 747: 4,\n",
       " 748: 3,\n",
       " 749: 4,\n",
       " 750: 4,\n",
       " 751: 3,\n",
       " 752: 4,\n",
       " 753: 6,\n",
       " 754: 2,\n",
       " 755: 8,\n",
       " 756: 8,\n",
       " 757: 5,\n",
       " 758: 3,\n",
       " 759: 8,\n",
       " 760: 6,\n",
       " 761: 9,\n",
       " 762: 3,\n",
       " 763: 3,\n",
       " 764: 2,\n",
       " 765: 7,\n",
       " 766: 5,\n",
       " 767: 3,\n",
       " 768: 3,\n",
       " 770: 8,\n",
       " 771: 5,\n",
       " 772: 7,\n",
       " 773: 5,\n",
       " 774: 3,\n",
       " 775: 2,\n",
       " 776: 3,\n",
       " 777: 5,\n",
       " 778: 4,\n",
       " 779: 5,\n",
       " 780: 2,\n",
       " 781: 2,\n",
       " 782: 5,\n",
       " 783: 8,\n",
       " 784: 7,\n",
       " 785: 1,\n",
       " 786: 4,\n",
       " 787: 5,\n",
       " 788: 13,\n",
       " 789: 7,\n",
       " 790: 4,\n",
       " 791: 3,\n",
       " 792: 4,\n",
       " 793: 3,\n",
       " 794: 1,\n",
       " 795: 1,\n",
       " 796: 7,\n",
       " 797: 5,\n",
       " 798: 3,\n",
       " 799: 4,\n",
       " 800: 2,\n",
       " 801: 5,\n",
       " 803: 2,\n",
       " 804: 2,\n",
       " 805: 4,\n",
       " 806: 7,\n",
       " 807: 2,\n",
       " 808: 1,\n",
       " 811: 4,\n",
       " 812: 5,\n",
       " 813: 2,\n",
       " 814: 2,\n",
       " 815: 4,\n",
       " 816: 4,\n",
       " 818: 3,\n",
       " 819: 4,\n",
       " 820: 4,\n",
       " 821: 3,\n",
       " 822: 5,\n",
       " 823: 9,\n",
       " 824: 6,\n",
       " 825: 6,\n",
       " 826: 5,\n",
       " 827: 3,\n",
       " 828: 4,\n",
       " 829: 3,\n",
       " 830: 4,\n",
       " 831: 3,\n",
       " 832: 4,\n",
       " 833: 1,\n",
       " 834: 6,\n",
       " 835: 3,\n",
       " 836: 1,\n",
       " 837: 5,\n",
       " 838: 4,\n",
       " 839: 1,\n",
       " 840: 3,\n",
       " 841: 5,\n",
       " 842: 8,\n",
       " 843: 7,\n",
       " 844: 4,\n",
       " 845: 3,\n",
       " 846: 8,\n",
       " 847: 3,\n",
       " 848: 5,\n",
       " 849: 6,\n",
       " 850: 5,\n",
       " 851: 8,\n",
       " 852: 5,\n",
       " 853: 2,\n",
       " 854: 1,\n",
       " 855: 4,\n",
       " 856: 4,\n",
       " 857: 2,\n",
       " 858: 1,\n",
       " 859: 5,\n",
       " 860: 1,\n",
       " 861: 7,\n",
       " 862: 6,\n",
       " 863: 3,\n",
       " 864: 3,\n",
       " 865: 3,\n",
       " 866: 4,\n",
       " 867: 4,\n",
       " 868: 3,\n",
       " 869: 2,\n",
       " 870: 4,\n",
       " 871: 6,\n",
       " 872: 5,\n",
       " 873: 5,\n",
       " 874: 5,\n",
       " 875: 4,\n",
       " 876: 5,\n",
       " 877: 2,\n",
       " 878: 7,\n",
       " 879: 4,\n",
       " 880: 8,\n",
       " 881: 1,\n",
       " 882: 3,\n",
       " 883: 1,\n",
       " 884: 6,\n",
       " 885: 4,\n",
       " 886: 5,\n",
       " 887: 9,\n",
       " 888: 3,\n",
       " 890: 1,\n",
       " 891: 4,\n",
       " 892: 6,\n",
       " 893: 5,\n",
       " 894: 5,\n",
       " 895: 3,\n",
       " 896: 7,\n",
       " 897: 6,\n",
       " 898: 4,\n",
       " 899: 5,\n",
       " 900: 2,\n",
       " 901: 1,\n",
       " 902: 4,\n",
       " 903: 2,\n",
       " 904: 2,\n",
       " 905: 4,\n",
       " 906: 7,\n",
       " 907: 5,\n",
       " 908: 4,\n",
       " 909: 2,\n",
       " 910: 8,\n",
       " 911: 8,\n",
       " 912: 2,\n",
       " 914: 2,\n",
       " 915: 5,\n",
       " 916: 3,\n",
       " 917: 10,\n",
       " 918: 3,\n",
       " 919: 2,\n",
       " 920: 3,\n",
       " 921: 5,\n",
       " 922: 7,\n",
       " 923: 5,\n",
       " 924: 5,\n",
       " 925: 2,\n",
       " 926: 8,\n",
       " 927: 2,\n",
       " 928: 1,\n",
       " 929: 4,\n",
       " 930: 4,\n",
       " 931: 11,\n",
       " 932: 8,\n",
       " 933: 6,\n",
       " 934: 7,\n",
       " 935: 1,\n",
       " 936: 5,\n",
       " 937: 2,\n",
       " 938: 12,\n",
       " 939: 4,\n",
       " 940: 2,\n",
       " 941: 2,\n",
       " 942: 2,\n",
       " 943: 3,\n",
       " 944: 4,\n",
       " 945: 3,\n",
       " 946: 9,\n",
       " 947: 4,\n",
       " 948: 7,\n",
       " 949: 8,\n",
       " 950: 7,\n",
       " 951: 3,\n",
       " 952: 6,\n",
       " 953: 3,\n",
       " 954: 2,\n",
       " 955: 2,\n",
       " 956: 2,\n",
       " 957: 5,\n",
       " 958: 2,\n",
       " 959: 3,\n",
       " 960: 6,\n",
       " 961: 5,\n",
       " 962: 2,\n",
       " 963: 2,\n",
       " 964: 6,\n",
       " 965: 7,\n",
       " 966: 7,\n",
       " 967: 3,\n",
       " 968: 4,\n",
       " 969: 7,\n",
       " 970: 5,\n",
       " 971: 3,\n",
       " 972: 4,\n",
       " 973: 6,\n",
       " 974: 3,\n",
       " 975: 6,\n",
       " 976: 4,\n",
       " 977: 4,\n",
       " 978: 4,\n",
       " 979: 5,\n",
       " 980: 6,\n",
       " 981: 8,\n",
       " 982: 4,\n",
       " 983: 3,\n",
       " 984: 4,\n",
       " 985: 2,\n",
       " 986: 3,\n",
       " 988: 5,\n",
       " 989: 9,\n",
       " 990: 4,\n",
       " 991: 8,\n",
       " 992: 4,\n",
       " 993: 4,\n",
       " 995: 4,\n",
       " 996: 6,\n",
       " 997: 2,\n",
       " 998: 3,\n",
       " 999: 6,\n",
       " 1000: 2,\n",
       " 1001: 3,\n",
       " 1002: 4,\n",
       " 1003: 5,\n",
       " 1004: 3,\n",
       " 1005: 3,\n",
       " 1006: 4,\n",
       " 1007: 4,\n",
       " 1008: 3,\n",
       " 1009: 4,\n",
       " 1010: 4,\n",
       " 1012: 4,\n",
       " 1013: 4,\n",
       " 1014: 3,\n",
       " 1015: 6,\n",
       " 1016: 2,\n",
       " 1017: 2,\n",
       " 1018: 5,\n",
       " 1019: 5,\n",
       " 1020: 4,\n",
       " 1021: 3,\n",
       " 1022: 5,\n",
       " 1023: 7,\n",
       " 1024: 4,\n",
       " 1025: 6,\n",
       " ...}"
      ]
     },
     "execution_count": 31,
     "metadata": {},
     "output_type": "execute_result"
    }
   ],
   "source": [
    "unique,counts = np.unique(interse,return_counts = True)\n",
    "dict(zip(unique,counts))"
   ]
  },
  {
   "cell_type": "markdown",
   "metadata": {},
   "source": [
    "54654 / 73728 是不收敛的"
   ]
  },
  {
   "cell_type": "markdown",
   "metadata": {},
   "source": [
    "### Try above methods on the same-init case"
   ]
  },
  {
   "cell_type": "code",
   "execution_count": 37,
   "metadata": {},
   "outputs": [
    {
     "name": "stdout",
     "output_type": "stream",
     "text": [
      "processing at line:  500\n",
      "processing at line:  1000\n",
      "processing at line:  1500\n",
      "processing at line:  2000\n",
      "processing at line:  2500\n",
      "processing at line:  3000\n",
      "processing at line:  3500\n",
      "processing at line:  4000\n",
      "processing at line:  4500\n",
      "processing at line:  500\n",
      "processing at line:  1000\n",
      "processing at line:  1500\n",
      "processing at line:  2000\n",
      "processing at line:  2500\n",
      "processing at line:  3000\n",
      "processing at line:  3500\n",
      "processing at line:  4000\n",
      "processing at line:  4500\n"
     ]
    }
   ],
   "source": [
    "preprocessing_weights('/userhome/34/gyu/Dissertation/same_init_weis_trail1/7.csv')\n",
    "preprocessing_weights('/userhome/34/gyu/Dissertation/same_init_weis_trail2/7.csv')\n"
   ]
  },
  {
   "cell_type": "code",
   "execution_count": 26,
   "metadata": {},
   "outputs": [
    {
     "name": "stderr",
     "output_type": "stream",
     "text": [
      "100%|██████████| 128/128 [00:00<00:00, 217.29it/s]\n"
     ]
    }
   ],
   "source": [
    "wei_5 = pd.read_csv(\"same_init_weis_trail1/5_weighted.csv\").drop('Unnamed: 0',axis=1)\n",
    "upper_bound = 10\n",
    "wei_5_tran =  wei_5.transpose().clip(upper=upper_bound)\n",
    "wei_5_clip = wei_5_tran.clip(lower=0.01).replace(0.01, 0)\n",
    "min_max_scaler = preprocessing.MinMaxScaler()\n",
    "scaled_5 = min_max_scaler.fit_transform(wei_5_clip)\n",
    "\n",
    "kde_5,start_conv_l5,end_conv_l5 = getConvergeStartByKDE(scaled_5)\n",
    "\n"
   ]
  },
  {
   "cell_type": "code",
   "execution_count": 27,
   "metadata": {},
   "outputs": [
    {
     "name": "stderr",
     "output_type": "stream",
     "text": [
      "100%|██████████| 128/128 [00:00<00:00, 222.43it/s]\n"
     ]
    }
   ],
   "source": [
    "wei_2_5 = pd.read_csv(\"same_init_weis_trail2/5_weighted.csv\").drop('Unnamed: 0',axis=1)\n",
    "upper_bound = 10\n",
    "wei_2_5_tran =  wei_2_5.transpose().clip(upper=upper_bound)\n",
    "wei_2_5_clip = wei_2_5_tran.clip(lower=0.01).replace(0.01, 0)\n",
    "min_max_scaler = preprocessing.MinMaxScaler()\n",
    "scaled_2_5 = min_max_scaler.fit_transform(wei_2_5_clip)\n",
    "kde_2_5,start_conv_2_l5,end_conv_2_l5 = getConvergeStartByKDE(scaled_2_5)"
   ]
  },
  {
   "cell_type": "code",
   "execution_count": null,
   "metadata": {},
   "outputs": [],
   "source": []
  },
  {
   "cell_type": "code",
   "execution_count": 38,
   "metadata": {},
   "outputs": [
    {
     "data": {
      "text/plain": [
       "<seaborn.axisgrid.JointGrid at 0x7ff99227e9e8>"
      ]
     },
     "execution_count": 38,
     "metadata": {},
     "output_type": "execute_result"
    },
    {
     "data": {
      "image/png": "[encoded data removed]",
      "text/plain": [
       "<Figure size 1440x1440 with 3 Axes>"
      ]
     },
     "metadata": {
      "needs_background": "light"
     },
     "output_type": "display_data"
    }
   ],
   "source": [
    "grid = sns.JointGrid(start_conv_l5, start_conv_2_l5, space=0, height=20,ratio=50)\n",
    "grid.plot_joint(plt.scatter, color=\"g\")\n",
    "grid.plot_marginals(sns.rugplot, height=1, color=\"g\")"
   ]
  },
  {
   "cell_type": "code",
   "execution_count": null,
   "metadata": {},
   "outputs": [
    {
     "name": "stdout",
     "output_type": "stream",
     "text": [
      "processing at line:  500\n",
      "processing at line:  1000\n",
      "processing at line:  1500\n",
      "processing at line:  2000\n",
      "processing at line:  2500\n",
      "processing at line:  3000\n",
      "processing at line:  3500\n",
      "processing at line:  4000\n",
      "processing at line:  4500\n",
      "processing at line:  500\n",
      "processing at line:  1000\n",
      "processing at line:  1500\n",
      "processing at line:  2000\n",
      "processing at line:  2500\n",
      "processing at line:  3000\n",
      "processing at line:  3500\n",
      "processing at line:  4000\n",
      "processing at line:  4500\n"
     ]
    }
   ],
   "source": [
    "preprocessing_weights('/userhome/34/gyu/Dissertation/same_init_weis_trail1/4.csv')\n",
    "preprocessing_weights('/userhome/34/gyu/Dissertation/same_init_weis_trail2/4.csv')\n"
   ]
  },
  {
   "cell_type": "code",
   "execution_count": 13,
   "metadata": {},
   "outputs": [
    {
     "name": "stderr",
     "output_type": "stream",
     "text": [
      "100%|██████████| 73728/73728 [01:10<00:00, 1042.21it/s]\n"
     ]
    }
   ],
   "source": [
    "wei_4 = pd.read_csv(\"same_init_weis_trail1/4_weighted.csv\").drop('Unnamed: 0',axis=1)\n",
    "upper_bound = 10\n",
    "wei_4_tran =  wei_4.transpose().clip(upper=upper_bound)\n",
    "wei_4_clip = wei_4_tran.clip(lower=0.01).replace(0.01, 0)\n",
    "min_max_scaler = preprocessing.MinMaxScaler()\n",
    "scaled_4 = min_max_scaler.fit_transform(wei_4_clip)\n",
    "\n",
    "kde_4,start_conv_l4,end_conv_l4 = getConvergeStartByKDE(scaled_4)\n",
    "np.save(\"same_init_weis_trail1/4_start_conv\",start_conv_l4)"
   ]
  },
  {
   "cell_type": "code",
   "execution_count": 7,
   "metadata": {},
   "outputs": [],
   "source": [
    "wei_2_4 = pd.read_csv(\"same_init_weis_trail2/4_weighted.csv\").drop('Unnamed: 0',axis=1)\n",
    "upper_bound = 10\n",
    "wei_2_4_tran =  wei_2_4.transpose().clip(upper=upper_bound)\n",
    "wei_2_4_clip = wei_2_4_tran.clip(lower=0.01).replace(0.01, 0)\n",
    "min_max_scaler = preprocessing.MinMaxScaler()\n",
    "scaled_2_4 = min_max_scaler.fit_transform(wei_2_4_clip)\n",
    "kde_2_4,start_conv_2_l4,end_conv_2_l4 = getConvergeStartByKDE(scaled_2_4)\n",
    "np.save(\"same_init_weis_trail2/4_start_conv\",start_conv_2_l4)"
   ]
  },
  {
   "cell_type": "code",
   "execution_count": 36,
   "metadata": {},
   "outputs": [
    {
     "name": "stderr",
     "output_type": "stream",
     "text": [
      "/userhome/34/gyu/anaconda3/envs/tensorflow2/lib/python3.6/site-packages/matplotlib/tight_layout.py:199: UserWarning: Tight layout not applied. tight_layout cannot make axes width small enough to accommodate all axes decorations\n",
      "  warnings.warn('Tight layout not applied. '\n"
     ]
    },
    {
     "data": {
      "text/plain": [
       "<seaborn.axisgrid.JointGrid at 0x7ff996d8fbe0>"
      ]
     },
     "execution_count": 36,
     "metadata": {},
     "output_type": "execute_result"
    },
    {
     "data": {
      "image/png": "[encoded data removed]",
      "text/plain": [
       "<Figure size 576x576 with 3 Axes>"
      ]
     },
     "metadata": {
      "needs_background": "light"
     },
     "output_type": "display_data"
    }
   ],
   "source": [
    "start_conv_l4 = np.load(\"same_init_weis_trail1/4_start_conv.npy\")\n",
    "start_conv_2_l4 = np.load(\"same_init_weis_trail2/4_start_conv.npy\")\n",
    "\n",
    "grid = sns.JointGrid(start_conv_l4, start_conv_2_l4, space=0, height=8,ratio = 50)\n",
    "grid.plot_joint(plt.scatter, color=\"b\")\n",
    "grid.plot_marginals(sns.rugplot, height=1, color=\"g\")"
   ]
  },
  {
   "cell_type": "code",
   "execution_count": 39,
   "metadata": {},
   "outputs": [
    {
     "name": "stderr",
     "output_type": "stream",
     "text": [
      "100%|██████████| 128/128 [00:00<00:00, 224.77it/s]\n",
      "100%|██████████| 128/128 [00:00<00:00, 211.92it/s]\n"
     ]
    }
   ],
   "source": [
    "wei_7 = pd.read_csv(\"same_init_weis_trail1/7_weighted.csv\").drop('Unnamed: 0',axis=1)\n",
    "upper_bound = 10\n",
    "wei_7_tran =  wei_7.transpose().clip(upper=upper_bound)\n",
    "wei_7_clip = wei_7_tran.clip(lower=0.01).replace(0.01, 0)\n",
    "min_max_scaler = preprocessing.MinMaxScaler()\n",
    "scaled_7 = min_max_scaler.fit_transform(wei_7_clip)\n",
    "\n",
    "kde_7,start_conv_l7,end_conv_l7 = getConvergeStartByKDE(scaled_7)\n",
    "\n",
    "wei_2_7 = pd.read_csv(\"same_init_weis_trail2/7_weighted.csv\").drop('Unnamed: 0',axis=1)\n",
    "upper_bound = 10\n",
    "wei_2_7_tran =  wei_2_7.transpose().clip(upper=upper_bound)\n",
    "wei_2_7_clip = wei_2_7_tran.clip(lower=0.01).replace(0.01, 0)\n",
    "min_max_scaler = preprocessing.MinMaxScaler()\n",
    "scaled_2_7 = min_max_scaler.fit_transform(wei_2_7_clip)\n",
    "kde_2_7,start_conv_2_l7,end_conv_2_l7 = getConvergeStartByKDE(scaled_2_7)"
   ]
  },
  {
   "cell_type": "code",
   "execution_count": 40,
   "metadata": {},
   "outputs": [
    {
     "name": "stderr",
     "output_type": "stream",
     "text": [
      "/userhome/34/gyu/anaconda3/envs/tensorflow2/lib/python3.6/site-packages/matplotlib/tight_layout.py:199: UserWarning: Tight layout not applied. tight_layout cannot make axes width small enough to accommodate all axes decorations\n",
      "  warnings.warn('Tight layout not applied. '\n"
     ]
    },
    {
     "data": {
      "text/plain": [
       "<seaborn.axisgrid.JointGrid at 0x7ff99214ee80>"
      ]
     },
     "execution_count": 40,
     "metadata": {},
     "output_type": "execute_result"
    },
    {
     "data": {
      "image/png": "[encoded data removed]",
      "text/plain": [
       "<Figure size 576x576 with 3 Axes>"
      ]
     },
     "metadata": {
      "needs_background": "light"
     },
     "output_type": "display_data"
    }
   ],
   "source": [
    "grid = sns.JointGrid(start_conv_l7, start_conv_2_l7, space=0, height=8, ratio=50)\n",
    "grid.plot_joint(plt.scatter, color=\"g\")\n",
    "grid.plot_marginals(sns.rugplot, height=1, color=\"g\")"
   ]
  },
  {
   "cell_type": "code",
   "execution_count": null,
   "metadata": {},
   "outputs": [],
   "source": []
  }
 ],
 "metadata": {
  "kernelspec": {
   "display_name": "Python 3",
   "language": "python",
   "name": "python3"
  },
  "language_info": {
   "codemirror_mode": {
    "name": "ipython",
    "version": 3
   },
   "file_extension": ".py",
   "mimetype": "text/x-python",
   "name": "python",
   "nbconvert_exporter": "python",
   "pygments_lexer": "ipython3",
   "version": "3.6.8"
  }
 },
 "nbformat": 4,
 "nbformat_minor": 2
}
