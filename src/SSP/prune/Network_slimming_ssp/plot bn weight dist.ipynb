{
 "cells": [
  {
   "cell_type": "code",
   "execution_count": 1,
   "metadata": {},
   "outputs": [
    {
     "name": "stderr",
     "output_type": "stream",
     "text": [
      "/userhome/34/gyu/anaconda3/envs/pytorch_env/lib/python3.7/site-packages/tensorboard/compat/tensorflow_stub/dtypes.py:541: FutureWarning: Passing (type, 1) or '1type' as a synonym of type is deprecated; in a future version of numpy, it will be understood as (type, (1,)) / '(1,)type'.\n",
      "  _np_qint8 = np.dtype([(\"qint8\", np.int8, 1)])\n",
      "/userhome/34/gyu/anaconda3/envs/pytorch_env/lib/python3.7/site-packages/tensorboard/compat/tensorflow_stub/dtypes.py:542: FutureWarning: Passing (type, 1) or '1type' as a synonym of type is deprecated; in a future version of numpy, it will be understood as (type, (1,)) / '(1,)type'.\n",
      "  _np_quint8 = np.dtype([(\"quint8\", np.uint8, 1)])\n",
      "/userhome/34/gyu/anaconda3/envs/pytorch_env/lib/python3.7/site-packages/tensorboard/compat/tensorflow_stub/dtypes.py:543: FutureWarning: Passing (type, 1) or '1type' as a synonym of type is deprecated; in a future version of numpy, it will be understood as (type, (1,)) / '(1,)type'.\n",
      "  _np_qint16 = np.dtype([(\"qint16\", np.int16, 1)])\n",
      "/userhome/34/gyu/anaconda3/envs/pytorch_env/lib/python3.7/site-packages/tensorboard/compat/tensorflow_stub/dtypes.py:544: FutureWarning: Passing (type, 1) or '1type' as a synonym of type is deprecated; in a future version of numpy, it will be understood as (type, (1,)) / '(1,)type'.\n",
      "  _np_quint16 = np.dtype([(\"quint16\", np.uint16, 1)])\n",
      "/userhome/34/gyu/anaconda3/envs/pytorch_env/lib/python3.7/site-packages/tensorboard/compat/tensorflow_stub/dtypes.py:545: FutureWarning: Passing (type, 1) or '1type' as a synonym of type is deprecated; in a future version of numpy, it will be understood as (type, (1,)) / '(1,)type'.\n",
      "  _np_qint32 = np.dtype([(\"qint32\", np.int32, 1)])\n",
      "/userhome/34/gyu/anaconda3/envs/pytorch_env/lib/python3.7/site-packages/tensorboard/compat/tensorflow_stub/dtypes.py:550: FutureWarning: Passing (type, 1) or '1type' as a synonym of type is deprecated; in a future version of numpy, it will be understood as (type, (1,)) / '(1,)type'.\n",
      "  np_resource = np.dtype([(\"resource\", np.ubyte, 1)])\n"
     ]
    }
   ],
   "source": [
    "from __future__ import absolute_import\n",
    "from __future__ import division\n",
    "from __future__ import print_function\n",
    "\n",
    "import argparse\n",
    "import numpy as np\n",
    "\n",
    "import ray\n",
    "import models\n",
    "import random,time\n",
    "from time import sleep\n",
    "import copy \n",
    "import datetime\n",
    "import argparse\n",
    "import sys\n",
    "\n",
    "\n",
    "import torch\n",
    "import torch.nn as nn\n",
    "import torch.nn.functional as F\n",
    "import torch.optim as optim\n",
    "from torchvision import datasets, transforms\n",
    "from torch.autograd import Variable\n",
    "import numpy as np\n",
    "import os\n",
    "import shutil\n",
    "from torch.utils.tensorboard import SummaryWriter\n",
    "from filelock import FileLock\n",
    "\n",
    "import pylab as pl\n",
    "import pandas as pd \n",
    "import matplotlib.pyplot as plt\n",
    "\n",
    "from models import channel_selection\n",
    "from torchsummary import summary\n"
   ]
  },
  {
   "cell_type": "code",
   "execution_count": 87,
   "metadata": {},
   "outputs": [],
   "source": [
    "def load_ckpt_plot_bn_param(ckpt_path):\n",
    "    checkpoint = torch.load(ckpt_path)\n",
    "    if 'cfg' in checkpoint:\n",
    "        model = models.__dict__['resnet'](dataset='cifar10', depth=164, cfg=checkpoint['cfg'])\n",
    "    else:\n",
    "        model = models.__dict__['resnet'](dataset='cifar10', depth=164)\n",
    "    model.load_state_dict(checkpoint['state_dict'])                \n",
    "\n",
    "    # calculate size of all bn parameters \n",
    "    total = 0\n",
    "    module_list = list(model.modules())\n",
    "    for i in range(len(module_list)):\n",
    "        m = module_list[i]\n",
    "        if (i + 1< len(module_list)) and isinstance(m, nn.BatchNorm2d) and isinstance(module_list[i+1],channel_selection):\n",
    "            cs = module_list[i+1]\n",
    "            total += int(torch.sum(cs.indexes))\n",
    "        elif isinstance(m, nn.BatchNorm2d):\n",
    "            total += m.weight.data.shape[0]\n",
    "    \n",
    "    # fill in bn params and flat it as 1-D\n",
    "    bn = torch.zeros(total)\n",
    "\n",
    "    index = 0\n",
    "    for i in range(len(module_list)):\n",
    "        m = module_list[i]\n",
    "        if i+1 < len(module_list) and isinstance(m, nn.BatchNorm2d) and isinstance(module_list[i+1],channel_selection):\n",
    "            cs = module_list[i+1]\n",
    "            size = int(torch.sum(cs.indexes))\n",
    "            mask = cs.indexes.clone().detach().numpy()\n",
    "            bn[index:(index+size)] = torch.from_numpy(m.weight.data.abs().clone().numpy()[np.where(mask)])\n",
    "            index += size\n",
    "        elif isinstance(m, nn.BatchNorm2d):\n",
    "            size = m.weight.data.shape[0]\n",
    "            bn[index:(index+size)] = m.weight.data.abs().clone()\n",
    "            index += size\n",
    "\n",
    "\n",
    "    # sort by value\n",
    "    sorted_bn, prev_idx = torch.sort(bn)\n",
    "    \n",
    "    \n",
    "    s = pd.Series(sorted_bn)\n",
    "#     count appearance of every value (dominanted by 0 with L1 norm)\n",
    "    print('total # of bn params: ',len(bn))\n",
    "\n",
    "    if 0 in s.value_counts():\n",
    "        print(\"Value is 0 among all bn params: \",s.value_counts()[0])\n",
    "        print(\"%.3f%% percent of bn params are zero\"%(s.value_counts()[0] * 100.0 /len(bn)))\n",
    "\n",
    "    plt.xlabel('BN weight value')\n",
    "    plt.ylabel('# of BN params')\n",
    "    plt.hist(s, bins=80, histtype=\"step\", alpha=.8)\n"
   ]
  },
  {
   "cell_type": "code",
   "execution_count": 2,
   "metadata": {},
   "outputs": [],
   "source": [
    "def plot_init_bn_param():\n",
    "    model = models.__dict__['resnet'](dataset='cifar10', depth=164)\n",
    "\n",
    "    # calculate size of all bn parameters \n",
    "    total = 0\n",
    "    module_list = list(model.modules())\n",
    "    for i in range(len(module_list)):\n",
    "        m = module_list[i]\n",
    "        if (i + 1< len(module_list)) and isinstance(m, nn.BatchNorm2d) and isinstance(module_list[i+1],channel_selection):\n",
    "            cs = module_list[i+1]\n",
    "            total += int(torch.sum(cs.indexes))\n",
    "        elif isinstance(m, nn.BatchNorm2d):\n",
    "            total += m.weight.data.shape[0]\n",
    "    \n",
    "    # fill in bn params and flat it as 1-D\n",
    "    bn = torch.zeros(total)\n",
    "\n",
    "    index = 0\n",
    "    for i in range(len(module_list)):\n",
    "        m = module_list[i]\n",
    "        if i+1 < len(module_list) and isinstance(m, nn.BatchNorm2d) and isinstance(module_list[i+1],channel_selection):\n",
    "            cs = module_list[i+1]\n",
    "            size = int(torch.sum(cs.indexes))\n",
    "            mask = cs.indexes.clone().detach().numpy()\n",
    "            bn[index:(index+size)] = torch.from_numpy(m.weight.data.abs().clone().numpy()[np.where(mask)])\n",
    "            index += size\n",
    "        elif isinstance(m, nn.BatchNorm2d):\n",
    "            size = m.weight.data.shape[0]\n",
    "            bn[index:(index+size)] = m.weight.data.abs().clone()\n",
    "            index += size\n",
    "\n",
    "\n",
    "    # sort by value\n",
    "    sorted_bn, prev_idx = torch.sort(bn)\n",
    "    \n",
    "    \n",
    "    s = pd.Series(sorted_bn)\n",
    "#     count appearance of every value (dominanted by 0 with L1 norm)\n",
    "    print('total # of bn params: ',len(bn))\n",
    "\n",
    "    if 0 in s.value_counts():\n",
    "        print(\"Value is 0 among all bn params: \",s.value_counts()[0])\n",
    "        print(\"%.3f%% percent of bn params are zero\"%(s.value_counts()[0] * 100.0 /len(bn)))\n",
    "\n",
    "    plt.xlabel('BN weight value')\n",
    "    plt.ylabel('# of BN params')\n",
    "    plt.hist(s, bins=80, histtype=\"step\", alpha=.8)\n"
   ]
  },
  {
   "cell_type": "code",
   "execution_count": 4,
   "metadata": {},
   "outputs": [
    {
     "name": "stdout",
     "output_type": "stream",
     "text": [
      "total # of bn params:  12112\n"
     ]
    },
    {
     "data": {
      "image/png": "[encoded data removed]",
      "text/plain": [
       "<Figure size 432x288 with 1 Axes>"
      ]
     },
     "metadata": {
      "needs_background": "light"
     },
     "output_type": "display_data"
    }
   ],
   "source": [
    "plot_init_bn_param()"
   ]
  },
  {
   "cell_type": "code",
   "execution_count": 88,
   "metadata": {},
   "outputs": [
    {
     "name": "stdout",
     "output_type": "stream",
     "text": [
      "number of bn parameters:  12112\n"
     ]
    }
   ],
   "source": [
    "orig_model = models.__dict__['resnet'](dataset='cifar10', depth=164)\n",
    "# calculate size of all bn parameters \n",
    "total = 0\n",
    "for m in orig_model.modules():\n",
    "    if isinstance(m, nn.BatchNorm2d):\n",
    "        total += m.weight.data.shape[0]\n",
    "bn = torch.zeros(total)\n",
    "print(\"number of bn parameters: \",total)"
   ]
  },
  {
   "cell_type": "code",
   "execution_count": 89,
   "metadata": {},
   "outputs": [
    {
     "name": "stdout",
     "output_type": "stream",
     "text": [
      "total # of bn params:  12112\n"
     ]
    },
    {
     "data": {
      "image/png": "[encoded data removed]",
      "text/plain": [
       "<Figure size 432x288 with 1 Axes>"
      ]
     },
     "metadata": {
      "needs_background": "light"
     },
     "output_type": "display_data"
    }
   ],
   "source": [
    "before_prune_1 = '/userhome/34/gyu/logs_sr/3wk_p1/train1/checkpoint.pth.tar'\n",
    "load_ckpt_plot_bn_param(before_prune_1)"
   ]
  },
  {
   "cell_type": "code",
   "execution_count": 90,
   "metadata": {
    "scrolled": true
   },
   "outputs": [
    {
     "name": "stdout",
     "output_type": "stream",
     "text": [
      "total # of bn params:  10900\n"
     ]
    },
    {
     "data": {
      "image/png": "[encoded data removed]",
      "text/plain": [
       "<Figure size 432x288 with 1 Axes>"
      ]
     },
     "metadata": {
      "needs_background": "light"
     },
     "output_type": "display_data"
    }
   ],
   "source": [
    "prune_1 = '/userhome/34/gyu/logs_sr/3wk_p1/prune1/pruned.pth.tar'\n",
    "load_ckpt_plot_bn_param(prune_1)"
   ]
  },
  {
   "cell_type": "code",
   "execution_count": 93,
   "metadata": {},
   "outputs": [
    {
     "name": "stdout",
     "output_type": "stream",
     "text": [
      "total # of bn params:  10900\n"
     ]
    },
    {
     "data": {
      "image/png": "[encoded data removed]",
      "text/plain": [
       "<Figure size 432x288 with 1 Axes>"
      ]
     },
     "metadata": {
      "needs_background": "light"
     },
     "output_type": "display_data"
    }
   ],
   "source": [
    "train2 = '/userhome/34/gyu/logs_sr/3wk_p1/train2/checkpoint.pth.tar'\n",
    "load_ckpt_plot_bn_param(train2)"
   ]
  },
  {
   "cell_type": "code",
   "execution_count": 94,
   "metadata": {},
   "outputs": [
    {
     "name": "stdout",
     "output_type": "stream",
     "text": [
      "total # of bn params:  9809\n"
     ]
    },
    {
     "data": {
      "image/png": "[encoded data removed]",
      "text/plain": [
       "<Figure size 432x288 with 1 Axes>"
      ]
     },
     "metadata": {
      "needs_background": "light"
     },
     "output_type": "display_data"
    }
   ],
   "source": [
    "prune2 = '/userhome/34/gyu/logs_sr/3wk_p1/prune2/pruned.pth.tar'\n",
    "load_ckpt_plot_bn_param(prune2)"
   ]
  },
  {
   "cell_type": "code",
   "execution_count": 95,
   "metadata": {},
   "outputs": [
    {
     "name": "stdout",
     "output_type": "stream",
     "text": [
      "total # of bn params:  9809\n"
     ]
    },
    {
     "data": {
      "image/png": "[encoded data removed]",
      "text/plain": [
       "<Figure size 432x288 with 1 Axes>"
      ]
     },
     "metadata": {
      "needs_background": "light"
     },
     "output_type": "display_data"
    }
   ],
   "source": [
    "train3 = '/userhome/34/gyu/logs_sr/3wk_p1/train3/checkpoint.pth.tar'\n",
    "load_ckpt_plot_bn_param(train3)"
   ]
  },
  {
   "cell_type": "code",
   "execution_count": 96,
   "metadata": {},
   "outputs": [
    {
     "name": "stdout",
     "output_type": "stream",
     "text": [
      "total # of bn params:  7945\n"
     ]
    },
    {
     "data": {
      "image/png": "[encoded data removed]",
      "text/plain": [
       "<Figure size 432x288 with 1 Axes>"
      ]
     },
     "metadata": {
      "needs_background": "light"
     },
     "output_type": "display_data"
    }
   ],
   "source": [
    "prune4 = '/userhome/34/gyu/logs_sr/3wk_p1/prune4/pruned.pth.tar'\n",
    "load_ckpt_plot_bn_param(prune4)"
   ]
  },
  {
   "cell_type": "code",
   "execution_count": 78,
   "metadata": {},
   "outputs": [
    {
     "name": "stdout",
     "output_type": "stream",
     "text": [
      "total # of bn params:  7945\n"
     ]
    },
    {
     "data": {
      "image/png": "[encoded data removed]",
      "text/plain": [
       "<Figure size 432x288 with 1 Axes>"
      ]
     },
     "metadata": {
      "needs_background": "light"
     },
     "output_type": "display_data"
    }
   ],
   "source": [
    "iterprune_124 = '/userhome/34/gyu/git-repo/rethinking-network-pruning/cifar/network-slimming/iterative_pruning/train124/checkpoint.pth.tar'\n",
    "load_ckpt_plot_bn_param(iterprune_124)"
   ]
  },
  {
   "cell_type": "code",
   "execution_count": 79,
   "metadata": {},
   "outputs": [
    {
     "name": "stdout",
     "output_type": "stream",
     "text": [
      "total # of bn params:  12112\n"
     ]
    },
    {
     "data": {
      "image/png": "[encoded data removed]",
      "text/plain": [
       "<Figure size 432x288 with 1 Axes>"
      ]
     },
     "metadata": {
      "needs_background": "light"
     },
     "output_type": "display_data"
    }
   ],
   "source": [
    "before_prune_once = '/userhome/34/gyu/git-repo/rethinking-network-pruning/cifar/network-slimming/logs/checkpoint.pth.tar'\n",
    "load_ckpt_plot_bn_param(before_prune_once)\n"
   ]
  },
  {
   "cell_type": "code",
   "execution_count": 80,
   "metadata": {},
   "outputs": [
    {
     "name": "stdout",
     "output_type": "stream",
     "text": [
      "total # of bn params:  7946\n"
     ]
    },
    {
     "data": {
      "image/png": "[encoded data removed]",
      "text/plain": [
       "<Figure size 432x288 with 1 Axes>"
      ]
     },
     "metadata": {
      "needs_background": "light"
     },
     "output_type": "display_data"
    }
   ],
   "source": [
    "prune_once = '/userhome/34/gyu/git-repo/rethinking-network-pruning/cifar/network-slimming/logs/prune_3439/pruned.pth.tar'\n",
    "load_ckpt_plot_bn_param(prune_once)\n"
   ]
  },
  {
   "cell_type": "code",
   "execution_count": 81,
   "metadata": {},
   "outputs": [
    {
     "name": "stdout",
     "output_type": "stream",
     "text": [
      "total # of bn params:  7946\n"
     ]
    },
    {
     "data": {
      "image/png": "[encoded data removed]",
      "text/plain": [
       "<Figure size 432x288 with 1 Axes>"
      ]
     },
     "metadata": {
      "needs_background": "light"
     },
     "output_type": "display_data"
    }
   ],
   "source": [
    "prune_once_after124 = '/userhome/34/gyu/git-repo/rethinking-network-pruning/cifar/network-slimming/logs/train_epoch_124/checkpoint.pth.tar'\n",
    "load_ckpt_plot_bn_param(prune_once_after124)"
   ]
  },
  {
   "cell_type": "code",
   "execution_count": 34,
   "metadata": {},
   "outputs": [
    {
     "data": {
      "text/plain": [
       "IncompatibleKeys(missing_keys=[], unexpected_keys=[])"
      ]
     },
     "execution_count": 34,
     "metadata": {},
     "output_type": "execute_result"
    }
   ],
   "source": [
    "prune_1 = '/userhome/34/gyu/git-repo/rethinking-network-pruning/cifar/network-slimming/iterative_pruning/prune1/pruned.pth.tar'\n",
    "prune_2 = '/userhome/34/gyu/git-repo/rethinking-network-pruning/cifar/network-slimming/iterative_pruning/prune2/pruned.pth.tar'\n",
    "prune_4 = '/userhome/34/gyu/git-repo/rethinking-network-pruning/cifar/network-slimming/iterative_pruning/prune4/pruned.pth.tar'\n",
    "prune_once = '/userhome/34/gyu/git-repo/rethinking-network-pruning/cifar/network-slimming/logs/train_epoch_124/checkpoint.pth.tar'\n",
    "\n",
    "model0 = models.__dict__['resnet'](dataset='cifar10', depth=164)\n",
    "\n",
    "checkpoint1 = torch.load(prune_1)\n",
    "model1 = models.__dict__['resnet'](dataset='cifar10', depth=164, cfg=checkpoint1['cfg'])\n",
    "model1.load_state_dict(checkpoint1['state_dict'])                \n",
    "\n",
    "checkpoint2 = torch.load(prune_2)\n",
    "model2 = models.__dict__['resnet'](dataset='cifar10', depth=164, cfg=checkpoint2['cfg'])\n",
    "model2.load_state_dict(checkpoint2['state_dict'])                \n",
    "\n",
    "checkpoint4 = torch.load(prune_4)\n",
    "model4 = models.__dict__['resnet'](dataset='cifar10', depth=164, cfg=checkpoint4['cfg'])\n",
    "model4.load_state_dict(checkpoint4['state_dict'])                \n",
    "\n",
    "checkpoint_prune_once = torch.load(prune_once)\n",
    "model_prune_once = models.__dict__['resnet'](dataset='cifar10', depth=164, cfg=checkpoint_prune_once['cfg'])\n",
    "model_prune_once.load_state_dict(checkpoint_prune_once['state_dict'])                \n"
   ]
  },
  {
   "cell_type": "code",
   "execution_count": 35,
   "metadata": {},
   "outputs": [],
   "source": [
    "def count_conv_channels(model):\n",
    "    sum_channel = 0.0\n",
    "    for m in model.modules():\n",
    "        if isinstance(m, nn.Conv2d):\n",
    "            sum_channel += m.in_channels\n",
    "#     print(sum_channel)\n",
    "    return sum_channel"
   ]
  },
  {
   "cell_type": "code",
   "execution_count": 36,
   "metadata": {},
   "outputs": [
    {
     "data": {
      "text/plain": [
       "12067.0"
      ]
     },
     "execution_count": 36,
     "metadata": {},
     "output_type": "execute_result"
    }
   ],
   "source": [
    "count_conv_channels(model0)"
   ]
  },
  {
   "cell_type": "code",
   "execution_count": 37,
   "metadata": {},
   "outputs": [
    {
     "data": {
      "text/plain": [
       "10933.0"
      ]
     },
     "execution_count": 37,
     "metadata": {},
     "output_type": "execute_result"
    }
   ],
   "source": [
    "count_conv_channels(model1)"
   ]
  },
  {
   "cell_type": "code",
   "execution_count": 38,
   "metadata": {},
   "outputs": [
    {
     "data": {
      "text/plain": [
       "9842.0"
      ]
     },
     "execution_count": 38,
     "metadata": {},
     "output_type": "execute_result"
    }
   ],
   "source": [
    "count_conv_channels(model2)"
   ]
  },
  {
   "cell_type": "code",
   "execution_count": 39,
   "metadata": {},
   "outputs": [
    {
     "data": {
      "text/plain": [
       "0.6612248280434242"
      ]
     },
     "execution_count": 39,
     "metadata": {},
     "output_type": "execute_result"
    }
   ],
   "source": [
    "count_conv_channels(model4) / count_conv_channels(model0)"
   ]
  },
  {
   "cell_type": "code",
   "execution_count": null,
   "metadata": {},
   "outputs": [],
   "source": []
  },
  {
   "cell_type": "code",
   "execution_count": 41,
   "metadata": {},
   "outputs": [
    {
     "data": {
      "text/plain": [
       "7928.0"
      ]
     },
     "execution_count": 41,
     "metadata": {},
     "output_type": "execute_result"
    }
   ],
   "source": [
    "count_conv_channels(model_prune_once)"
   ]
  },
  {
   "cell_type": "code",
   "execution_count": 42,
   "metadata": {},
   "outputs": [
    {
     "data": {
      "text/plain": [
       "0.6569984254578602"
      ]
     },
     "execution_count": 42,
     "metadata": {},
     "output_type": "execute_result"
    }
   ],
   "source": [
    "7928 / 12067"
   ]
  },
  {
   "cell_type": "code",
   "execution_count": 66,
   "metadata": {},
   "outputs": [],
   "source": [
    "def check_bn_before_cs(model):\n",
    "    zeros = 0\n",
    "    module_list = list(model.modules())\n",
    "    for i in range(len(module_list)):\n",
    "        m = module_list[i]\n",
    "        if (i + 1< len(module_list)) and isinstance(m, nn.BatchNorm2d) and isinstance(module_list[i+1],channel_selection):\n",
    "            zeros += torch.sum(m.weight.data.eq(0))\n",
    "    print(zeros)\n",
    "            "
   ]
  },
  {
   "cell_type": "code",
   "execution_count": 67,
   "metadata": {},
   "outputs": [
    {
     "name": "stdout",
     "output_type": "stream",
     "text": [
      "tensor(3322)\n"
     ]
    }
   ],
   "source": [
    "check_bn_before_cs(model_prune_once)"
   ]
  },
  {
   "cell_type": "code",
   "execution_count": 85,
   "metadata": {},
   "outputs": [
    {
     "name": "stdout",
     "output_type": "stream",
     "text": [
      "----------------------------------------------------------------\n",
      "        Layer (type)               Output Shape         Param #\n",
      "================================================================\n",
      "            Conv2d-1           [-1, 16, 32, 32]             432\n",
      "       BatchNorm2d-2           [-1, 16, 32, 32]              32\n",
      " channel_selection-3           [-1, 12, 32, 32]               0\n",
      "              ReLU-4           [-1, 12, 32, 32]               0\n",
      "            Conv2d-5           [-1, 12, 32, 32]             144\n",
      "       BatchNorm2d-6           [-1, 12, 32, 32]              24\n",
      "              ReLU-7           [-1, 12, 32, 32]               0\n",
      "            Conv2d-8           [-1, 15, 32, 32]           1,620\n",
      "       BatchNorm2d-9           [-1, 15, 32, 32]              30\n",
      "             ReLU-10           [-1, 15, 32, 32]               0\n",
      "           Conv2d-11           [-1, 64, 32, 32]             960\n",
      "           Conv2d-12           [-1, 64, 32, 32]           1,024\n",
      "       Bottleneck-13           [-1, 64, 32, 32]               0\n",
      "      BatchNorm2d-14           [-1, 64, 32, 32]             128\n",
      "channel_selection-15           [-1, 39, 32, 32]               0\n",
      "             ReLU-16           [-1, 39, 32, 32]               0\n",
      "           Conv2d-17           [-1, 13, 32, 32]             507\n",
      "      BatchNorm2d-18           [-1, 13, 32, 32]              26\n",
      "             ReLU-19           [-1, 13, 32, 32]               0\n",
      "           Conv2d-20           [-1, 16, 32, 32]           1,872\n",
      "      BatchNorm2d-21           [-1, 16, 32, 32]              32\n",
      "             ReLU-22           [-1, 16, 32, 32]               0\n",
      "           Conv2d-23           [-1, 64, 32, 32]           1,024\n",
      "       Bottleneck-24           [-1, 64, 32, 32]               0\n",
      "      BatchNorm2d-25           [-1, 64, 32, 32]             128\n",
      "channel_selection-26           [-1, 37, 32, 32]               0\n",
      "             ReLU-27           [-1, 37, 32, 32]               0\n",
      "           Conv2d-28           [-1, 12, 32, 32]             444\n",
      "      BatchNorm2d-29           [-1, 12, 32, 32]              24\n",
      "             ReLU-30           [-1, 12, 32, 32]               0\n",
      "           Conv2d-31           [-1, 14, 32, 32]           1,512\n",
      "      BatchNorm2d-32           [-1, 14, 32, 32]              28\n",
      "             ReLU-33           [-1, 14, 32, 32]               0\n",
      "           Conv2d-34           [-1, 64, 32, 32]             896\n",
      "       Bottleneck-35           [-1, 64, 32, 32]               0\n",
      "      BatchNorm2d-36           [-1, 64, 32, 32]             128\n",
      "channel_selection-37           [-1, 35, 32, 32]               0\n",
      "             ReLU-38           [-1, 35, 32, 32]               0\n",
      "           Conv2d-39           [-1, 14, 32, 32]             490\n",
      "      BatchNorm2d-40           [-1, 14, 32, 32]              28\n",
      "             ReLU-41           [-1, 14, 32, 32]               0\n",
      "           Conv2d-42           [-1, 16, 32, 32]           2,016\n",
      "      BatchNorm2d-43           [-1, 16, 32, 32]              32\n",
      "             ReLU-44           [-1, 16, 32, 32]               0\n",
      "           Conv2d-45           [-1, 64, 32, 32]           1,024\n",
      "       Bottleneck-46           [-1, 64, 32, 32]               0\n",
      "      BatchNorm2d-47           [-1, 64, 32, 32]             128\n",
      "channel_selection-48           [-1, 31, 32, 32]               0\n",
      "             ReLU-49           [-1, 31, 32, 32]               0\n",
      "           Conv2d-50            [-1, 9, 32, 32]             279\n",
      "      BatchNorm2d-51            [-1, 9, 32, 32]              18\n",
      "             ReLU-52            [-1, 9, 32, 32]               0\n",
      "           Conv2d-53           [-1, 15, 32, 32]           1,215\n",
      "      BatchNorm2d-54           [-1, 15, 32, 32]              30\n",
      "             ReLU-55           [-1, 15, 32, 32]               0\n",
      "           Conv2d-56           [-1, 64, 32, 32]             960\n",
      "       Bottleneck-57           [-1, 64, 32, 32]               0\n",
      "      BatchNorm2d-58           [-1, 64, 32, 32]             128\n",
      "channel_selection-59           [-1, 38, 32, 32]               0\n",
      "             ReLU-60           [-1, 38, 32, 32]               0\n",
      "           Conv2d-61            [-1, 9, 32, 32]             342\n",
      "      BatchNorm2d-62            [-1, 9, 32, 32]              18\n",
      "             ReLU-63            [-1, 9, 32, 32]               0\n",
      "           Conv2d-64           [-1, 15, 32, 32]           1,215\n",
      "      BatchNorm2d-65           [-1, 15, 32, 32]              30\n",
      "             ReLU-66           [-1, 15, 32, 32]               0\n",
      "           Conv2d-67           [-1, 64, 32, 32]             960\n",
      "       Bottleneck-68           [-1, 64, 32, 32]               0\n",
      "      BatchNorm2d-69           [-1, 64, 32, 32]             128\n",
      "channel_selection-70           [-1, 33, 32, 32]               0\n",
      "             ReLU-71           [-1, 33, 32, 32]               0\n",
      "           Conv2d-72            [-1, 9, 32, 32]             297\n",
      "      BatchNorm2d-73            [-1, 9, 32, 32]              18\n",
      "             ReLU-74            [-1, 9, 32, 32]               0\n",
      "           Conv2d-75           [-1, 14, 32, 32]           1,134\n",
      "      BatchNorm2d-76           [-1, 14, 32, 32]              28\n",
      "             ReLU-77           [-1, 14, 32, 32]               0\n",
      "           Conv2d-78           [-1, 64, 32, 32]             896\n",
      "       Bottleneck-79           [-1, 64, 32, 32]               0\n",
      "      BatchNorm2d-80           [-1, 64, 32, 32]             128\n",
      "channel_selection-81           [-1, 34, 32, 32]               0\n",
      "             ReLU-82           [-1, 34, 32, 32]               0\n",
      "           Conv2d-83           [-1, 14, 32, 32]             476\n",
      "      BatchNorm2d-84           [-1, 14, 32, 32]              28\n",
      "             ReLU-85           [-1, 14, 32, 32]               0\n",
      "           Conv2d-86           [-1, 15, 32, 32]           1,890\n",
      "      BatchNorm2d-87           [-1, 15, 32, 32]              30\n",
      "             ReLU-88           [-1, 15, 32, 32]               0\n",
      "           Conv2d-89           [-1, 64, 32, 32]             960\n",
      "       Bottleneck-90           [-1, 64, 32, 32]               0\n",
      "      BatchNorm2d-91           [-1, 64, 32, 32]             128\n",
      "channel_selection-92           [-1, 41, 32, 32]               0\n",
      "             ReLU-93           [-1, 41, 32, 32]               0\n",
      "           Conv2d-94           [-1, 12, 32, 32]             492\n",
      "      BatchNorm2d-95           [-1, 12, 32, 32]              24\n",
      "             ReLU-96           [-1, 12, 32, 32]               0\n",
      "           Conv2d-97           [-1, 16, 32, 32]           1,728\n",
      "      BatchNorm2d-98           [-1, 16, 32, 32]              32\n",
      "             ReLU-99           [-1, 16, 32, 32]               0\n",
      "          Conv2d-100           [-1, 64, 32, 32]           1,024\n",
      "      Bottleneck-101           [-1, 64, 32, 32]               0\n",
      "     BatchNorm2d-102           [-1, 64, 32, 32]             128\n",
      "channel_selection-103           [-1, 34, 32, 32]               0\n",
      "            ReLU-104           [-1, 34, 32, 32]               0\n",
      "          Conv2d-105           [-1, 10, 32, 32]             340\n",
      "     BatchNorm2d-106           [-1, 10, 32, 32]              20\n",
      "            ReLU-107           [-1, 10, 32, 32]               0\n",
      "          Conv2d-108           [-1, 14, 32, 32]           1,260\n",
      "     BatchNorm2d-109           [-1, 14, 32, 32]              28\n",
      "            ReLU-110           [-1, 14, 32, 32]               0\n",
      "          Conv2d-111           [-1, 64, 32, 32]             896\n",
      "      Bottleneck-112           [-1, 64, 32, 32]               0\n",
      "     BatchNorm2d-113           [-1, 64, 32, 32]             128\n",
      "channel_selection-114           [-1, 27, 32, 32]               0\n",
      "            ReLU-115           [-1, 27, 32, 32]               0\n",
      "          Conv2d-116            [-1, 8, 32, 32]             216\n",
      "     BatchNorm2d-117            [-1, 8, 32, 32]              16\n",
      "            ReLU-118            [-1, 8, 32, 32]               0\n",
      "          Conv2d-119           [-1, 15, 32, 32]           1,080\n",
      "     BatchNorm2d-120           [-1, 15, 32, 32]              30\n",
      "            ReLU-121           [-1, 15, 32, 32]               0\n",
      "          Conv2d-122           [-1, 64, 32, 32]             960\n",
      "      Bottleneck-123           [-1, 64, 32, 32]               0\n",
      "     BatchNorm2d-124           [-1, 64, 32, 32]             128\n",
      "channel_selection-125           [-1, 32, 32, 32]               0\n",
      "            ReLU-126           [-1, 32, 32, 32]               0\n",
      "          Conv2d-127            [-1, 9, 32, 32]             288\n",
      "     BatchNorm2d-128            [-1, 9, 32, 32]              18\n",
      "            ReLU-129            [-1, 9, 32, 32]               0\n",
      "          Conv2d-130           [-1, 15, 32, 32]           1,215\n",
      "     BatchNorm2d-131           [-1, 15, 32, 32]              30\n",
      "            ReLU-132           [-1, 15, 32, 32]               0\n",
      "          Conv2d-133           [-1, 64, 32, 32]             960\n",
      "      Bottleneck-134           [-1, 64, 32, 32]               0\n",
      "     BatchNorm2d-135           [-1, 64, 32, 32]             128\n",
      "channel_selection-136           [-1, 31, 32, 32]               0\n",
      "            ReLU-137           [-1, 31, 32, 32]               0\n",
      "          Conv2d-138            [-1, 6, 32, 32]             186\n",
      "     BatchNorm2d-139            [-1, 6, 32, 32]              12\n",
      "            ReLU-140            [-1, 6, 32, 32]               0\n",
      "          Conv2d-141           [-1, 14, 32, 32]             756\n",
      "     BatchNorm2d-142           [-1, 14, 32, 32]              28\n",
      "            ReLU-143           [-1, 14, 32, 32]               0\n",
      "          Conv2d-144           [-1, 64, 32, 32]             896\n",
      "      Bottleneck-145           [-1, 64, 32, 32]               0\n",
      "     BatchNorm2d-146           [-1, 64, 32, 32]             128\n",
      "channel_selection-147           [-1, 37, 32, 32]               0\n",
      "            ReLU-148           [-1, 37, 32, 32]               0\n",
      "          Conv2d-149           [-1, 11, 32, 32]             407\n",
      "     BatchNorm2d-150           [-1, 11, 32, 32]              22\n",
      "            ReLU-151           [-1, 11, 32, 32]               0\n",
      "          Conv2d-152           [-1, 11, 32, 32]           1,089\n",
      "     BatchNorm2d-153           [-1, 11, 32, 32]              22\n",
      "            ReLU-154           [-1, 11, 32, 32]               0\n",
      "          Conv2d-155           [-1, 64, 32, 32]             704\n",
      "      Bottleneck-156           [-1, 64, 32, 32]               0\n",
      "     BatchNorm2d-157           [-1, 64, 32, 32]             128\n",
      "channel_selection-158           [-1, 38, 32, 32]               0\n",
      "            ReLU-159           [-1, 38, 32, 32]               0\n",
      "          Conv2d-160           [-1, 13, 32, 32]             494\n",
      "     BatchNorm2d-161           [-1, 13, 32, 32]              26\n",
      "            ReLU-162           [-1, 13, 32, 32]               0\n",
      "          Conv2d-163           [-1, 15, 32, 32]           1,755\n",
      "     BatchNorm2d-164           [-1, 15, 32, 32]              30\n",
      "            ReLU-165           [-1, 15, 32, 32]               0\n",
      "          Conv2d-166           [-1, 64, 32, 32]             960\n",
      "      Bottleneck-167           [-1, 64, 32, 32]               0\n",
      "     BatchNorm2d-168           [-1, 64, 32, 32]             128\n",
      "channel_selection-169           [-1, 32, 32, 32]               0\n",
      "            ReLU-170           [-1, 32, 32, 32]               0\n",
      "          Conv2d-171           [-1, 11, 32, 32]             352\n",
      "     BatchNorm2d-172           [-1, 11, 32, 32]              22\n",
      "            ReLU-173           [-1, 11, 32, 32]               0\n",
      "          Conv2d-174           [-1, 15, 32, 32]           1,485\n",
      "     BatchNorm2d-175           [-1, 15, 32, 32]              30\n",
      "            ReLU-176           [-1, 15, 32, 32]               0\n",
      "          Conv2d-177           [-1, 64, 32, 32]             960\n",
      "      Bottleneck-178           [-1, 64, 32, 32]               0\n",
      "     BatchNorm2d-179           [-1, 64, 32, 32]             128\n",
      "channel_selection-180           [-1, 34, 32, 32]               0\n",
      "            ReLU-181           [-1, 34, 32, 32]               0\n",
      "          Conv2d-182           [-1, 12, 32, 32]             408\n",
      "     BatchNorm2d-183           [-1, 12, 32, 32]              24\n",
      "            ReLU-184           [-1, 12, 32, 32]               0\n",
      "          Conv2d-185           [-1, 12, 32, 32]           1,296\n",
      "     BatchNorm2d-186           [-1, 12, 32, 32]              24\n",
      "            ReLU-187           [-1, 12, 32, 32]               0\n",
      "          Conv2d-188           [-1, 64, 32, 32]             768\n",
      "      Bottleneck-189           [-1, 64, 32, 32]               0\n",
      "     BatchNorm2d-190           [-1, 64, 32, 32]             128\n",
      "channel_selection-191           [-1, 39, 32, 32]               0\n",
      "            ReLU-192           [-1, 39, 32, 32]               0\n",
      "          Conv2d-193           [-1, 11, 32, 32]             429\n",
      "     BatchNorm2d-194           [-1, 11, 32, 32]              22\n",
      "            ReLU-195           [-1, 11, 32, 32]               0\n",
      "          Conv2d-196           [-1, 15, 32, 32]           1,485\n",
      "     BatchNorm2d-197           [-1, 15, 32, 32]              30\n",
      "            ReLU-198           [-1, 15, 32, 32]               0\n",
      "          Conv2d-199           [-1, 64, 32, 32]             960\n",
      "      Bottleneck-200           [-1, 64, 32, 32]               0\n",
      "     BatchNorm2d-201           [-1, 64, 32, 32]             128\n",
      "channel_selection-202           [-1, 41, 32, 32]               0\n",
      "            ReLU-203           [-1, 41, 32, 32]               0\n",
      "          Conv2d-204           [-1, 18, 32, 32]             738\n",
      "     BatchNorm2d-205           [-1, 18, 32, 32]              36\n",
      "            ReLU-206           [-1, 18, 32, 32]               0\n",
      "          Conv2d-207           [-1, 29, 16, 16]           4,698\n",
      "     BatchNorm2d-208           [-1, 29, 16, 16]              58\n",
      "            ReLU-209           [-1, 29, 16, 16]               0\n",
      "          Conv2d-210          [-1, 128, 16, 16]           3,712\n",
      "          Conv2d-211          [-1, 128, 16, 16]           8,192\n",
      "      Bottleneck-212          [-1, 128, 16, 16]               0\n",
      "     BatchNorm2d-213          [-1, 128, 16, 16]             256\n",
      "channel_selection-214           [-1, 73, 16, 16]               0\n",
      "            ReLU-215           [-1, 73, 16, 16]               0\n",
      "          Conv2d-216           [-1, 24, 16, 16]           1,752\n",
      "     BatchNorm2d-217           [-1, 24, 16, 16]              48\n",
      "            ReLU-218           [-1, 24, 16, 16]               0\n",
      "          Conv2d-219           [-1, 31, 16, 16]           6,696\n",
      "     BatchNorm2d-220           [-1, 31, 16, 16]              62\n",
      "            ReLU-221           [-1, 31, 16, 16]               0\n",
      "          Conv2d-222          [-1, 128, 16, 16]           3,968\n",
      "      Bottleneck-223          [-1, 128, 16, 16]               0\n",
      "     BatchNorm2d-224          [-1, 128, 16, 16]             256\n",
      "channel_selection-225           [-1, 71, 16, 16]               0\n",
      "            ReLU-226           [-1, 71, 16, 16]               0\n",
      "          Conv2d-227           [-1, 20, 16, 16]           1,420\n",
      "     BatchNorm2d-228           [-1, 20, 16, 16]              40\n",
      "            ReLU-229           [-1, 20, 16, 16]               0\n",
      "          Conv2d-230           [-1, 32, 16, 16]           5,760\n",
      "     BatchNorm2d-231           [-1, 32, 16, 16]              64\n",
      "            ReLU-232           [-1, 32, 16, 16]               0\n",
      "          Conv2d-233          [-1, 128, 16, 16]           4,096\n",
      "      Bottleneck-234          [-1, 128, 16, 16]               0\n",
      "     BatchNorm2d-235          [-1, 128, 16, 16]             256\n",
      "channel_selection-236           [-1, 69, 16, 16]               0\n",
      "            ReLU-237           [-1, 69, 16, 16]               0\n",
      "          Conv2d-238           [-1, 18, 16, 16]           1,242\n",
      "     BatchNorm2d-239           [-1, 18, 16, 16]              36\n",
      "            ReLU-240           [-1, 18, 16, 16]               0\n",
      "          Conv2d-241           [-1, 29, 16, 16]           4,698\n",
      "     BatchNorm2d-242           [-1, 29, 16, 16]              58\n",
      "            ReLU-243           [-1, 29, 16, 16]               0\n",
      "          Conv2d-244          [-1, 128, 16, 16]           3,712\n",
      "      Bottleneck-245          [-1, 128, 16, 16]               0\n",
      "     BatchNorm2d-246          [-1, 128, 16, 16]             256\n",
      "channel_selection-247           [-1, 72, 16, 16]               0\n",
      "            ReLU-248           [-1, 72, 16, 16]               0\n",
      "          Conv2d-249           [-1, 21, 16, 16]           1,512\n",
      "     BatchNorm2d-250           [-1, 21, 16, 16]              42\n",
      "            ReLU-251           [-1, 21, 16, 16]               0\n",
      "          Conv2d-252           [-1, 32, 16, 16]           6,048\n",
      "     BatchNorm2d-253           [-1, 32, 16, 16]              64\n",
      "            ReLU-254           [-1, 32, 16, 16]               0\n",
      "          Conv2d-255          [-1, 128, 16, 16]           4,096\n",
      "      Bottleneck-256          [-1, 128, 16, 16]               0\n",
      "     BatchNorm2d-257          [-1, 128, 16, 16]             256\n",
      "channel_selection-258           [-1, 69, 16, 16]               0\n",
      "            ReLU-259           [-1, 69, 16, 16]               0\n",
      "          Conv2d-260           [-1, 22, 16, 16]           1,518\n",
      "     BatchNorm2d-261           [-1, 22, 16, 16]              44\n",
      "            ReLU-262           [-1, 22, 16, 16]               0\n",
      "          Conv2d-263           [-1, 32, 16, 16]           6,336\n",
      "     BatchNorm2d-264           [-1, 32, 16, 16]              64\n",
      "            ReLU-265           [-1, 32, 16, 16]               0\n",
      "          Conv2d-266          [-1, 128, 16, 16]           4,096\n",
      "      Bottleneck-267          [-1, 128, 16, 16]               0\n",
      "     BatchNorm2d-268          [-1, 128, 16, 16]             256\n",
      "channel_selection-269           [-1, 78, 16, 16]               0\n",
      "            ReLU-270           [-1, 78, 16, 16]               0\n",
      "          Conv2d-271           [-1, 21, 16, 16]           1,638\n",
      "     BatchNorm2d-272           [-1, 21, 16, 16]              42\n",
      "            ReLU-273           [-1, 21, 16, 16]               0\n",
      "          Conv2d-274           [-1, 32, 16, 16]           6,048\n",
      "     BatchNorm2d-275           [-1, 32, 16, 16]              64\n",
      "            ReLU-276           [-1, 32, 16, 16]               0\n",
      "          Conv2d-277          [-1, 128, 16, 16]           4,096\n",
      "      Bottleneck-278          [-1, 128, 16, 16]               0\n",
      "     BatchNorm2d-279          [-1, 128, 16, 16]             256\n",
      "channel_selection-280           [-1, 70, 16, 16]               0\n",
      "            ReLU-281           [-1, 70, 16, 16]               0\n",
      "          Conv2d-282           [-1, 20, 16, 16]           1,400\n",
      "     BatchNorm2d-283           [-1, 20, 16, 16]              40\n",
      "            ReLU-284           [-1, 20, 16, 16]               0\n",
      "          Conv2d-285           [-1, 32, 16, 16]           5,760\n",
      "     BatchNorm2d-286           [-1, 32, 16, 16]              64\n",
      "            ReLU-287           [-1, 32, 16, 16]               0\n",
      "          Conv2d-288          [-1, 128, 16, 16]           4,096\n",
      "      Bottleneck-289          [-1, 128, 16, 16]               0\n",
      "     BatchNorm2d-290          [-1, 128, 16, 16]             256\n",
      "channel_selection-291           [-1, 73, 16, 16]               0\n",
      "            ReLU-292           [-1, 73, 16, 16]               0\n",
      "          Conv2d-293           [-1, 25, 16, 16]           1,825\n",
      "     BatchNorm2d-294           [-1, 25, 16, 16]              50\n",
      "            ReLU-295           [-1, 25, 16, 16]               0\n",
      "          Conv2d-296           [-1, 32, 16, 16]           7,200\n",
      "     BatchNorm2d-297           [-1, 32, 16, 16]              64\n",
      "            ReLU-298           [-1, 32, 16, 16]               0\n",
      "          Conv2d-299          [-1, 128, 16, 16]           4,096\n",
      "      Bottleneck-300          [-1, 128, 16, 16]               0\n",
      "     BatchNorm2d-301          [-1, 128, 16, 16]             256\n",
      "channel_selection-302           [-1, 75, 16, 16]               0\n",
      "            ReLU-303           [-1, 75, 16, 16]               0\n",
      "          Conv2d-304           [-1, 21, 16, 16]           1,575\n",
      "     BatchNorm2d-305           [-1, 21, 16, 16]              42\n",
      "            ReLU-306           [-1, 21, 16, 16]               0\n",
      "          Conv2d-307           [-1, 32, 16, 16]           6,048\n",
      "     BatchNorm2d-308           [-1, 32, 16, 16]              64\n",
      "            ReLU-309           [-1, 32, 16, 16]               0\n",
      "          Conv2d-310          [-1, 128, 16, 16]           4,096\n",
      "      Bottleneck-311          [-1, 128, 16, 16]               0\n",
      "     BatchNorm2d-312          [-1, 128, 16, 16]             256\n",
      "channel_selection-313           [-1, 67, 16, 16]               0\n",
      "            ReLU-314           [-1, 67, 16, 16]               0\n",
      "          Conv2d-315           [-1, 21, 16, 16]           1,407\n",
      "     BatchNorm2d-316           [-1, 21, 16, 16]              42\n",
      "            ReLU-317           [-1, 21, 16, 16]               0\n",
      "          Conv2d-318           [-1, 32, 16, 16]           6,048\n",
      "     BatchNorm2d-319           [-1, 32, 16, 16]              64\n",
      "            ReLU-320           [-1, 32, 16, 16]               0\n",
      "          Conv2d-321          [-1, 128, 16, 16]           4,096\n",
      "      Bottleneck-322          [-1, 128, 16, 16]               0\n",
      "     BatchNorm2d-323          [-1, 128, 16, 16]             256\n",
      "channel_selection-324           [-1, 69, 16, 16]               0\n",
      "            ReLU-325           [-1, 69, 16, 16]               0\n",
      "          Conv2d-326           [-1, 20, 16, 16]           1,380\n",
      "     BatchNorm2d-327           [-1, 20, 16, 16]              40\n",
      "            ReLU-328           [-1, 20, 16, 16]               0\n",
      "          Conv2d-329           [-1, 31, 16, 16]           5,580\n",
      "     BatchNorm2d-330           [-1, 31, 16, 16]              62\n",
      "            ReLU-331           [-1, 31, 16, 16]               0\n",
      "          Conv2d-332          [-1, 128, 16, 16]           3,968\n",
      "      Bottleneck-333          [-1, 128, 16, 16]               0\n",
      "     BatchNorm2d-334          [-1, 128, 16, 16]             256\n",
      "channel_selection-335           [-1, 70, 16, 16]               0\n",
      "            ReLU-336           [-1, 70, 16, 16]               0\n",
      "          Conv2d-337           [-1, 21, 16, 16]           1,470\n",
      "     BatchNorm2d-338           [-1, 21, 16, 16]              42\n",
      "            ReLU-339           [-1, 21, 16, 16]               0\n",
      "          Conv2d-340           [-1, 30, 16, 16]           5,670\n",
      "     BatchNorm2d-341           [-1, 30, 16, 16]              60\n",
      "            ReLU-342           [-1, 30, 16, 16]               0\n",
      "          Conv2d-343          [-1, 128, 16, 16]           3,840\n",
      "      Bottleneck-344          [-1, 128, 16, 16]               0\n",
      "     BatchNorm2d-345          [-1, 128, 16, 16]             256\n",
      "channel_selection-346           [-1, 73, 16, 16]               0\n",
      "            ReLU-347           [-1, 73, 16, 16]               0\n",
      "          Conv2d-348           [-1, 19, 16, 16]           1,387\n",
      "     BatchNorm2d-349           [-1, 19, 16, 16]              38\n",
      "            ReLU-350           [-1, 19, 16, 16]               0\n",
      "          Conv2d-351           [-1, 30, 16, 16]           5,130\n",
      "     BatchNorm2d-352           [-1, 30, 16, 16]              60\n",
      "            ReLU-353           [-1, 30, 16, 16]               0\n",
      "          Conv2d-354          [-1, 128, 16, 16]           3,840\n",
      "      Bottleneck-355          [-1, 128, 16, 16]               0\n",
      "     BatchNorm2d-356          [-1, 128, 16, 16]             256\n",
      "channel_selection-357           [-1, 65, 16, 16]               0\n",
      "            ReLU-358           [-1, 65, 16, 16]               0\n",
      "          Conv2d-359           [-1, 20, 16, 16]           1,300\n",
      "     BatchNorm2d-360           [-1, 20, 16, 16]              40\n",
      "            ReLU-361           [-1, 20, 16, 16]               0\n",
      "          Conv2d-362           [-1, 31, 16, 16]           5,580\n",
      "     BatchNorm2d-363           [-1, 31, 16, 16]              62\n",
      "            ReLU-364           [-1, 31, 16, 16]               0\n",
      "          Conv2d-365          [-1, 128, 16, 16]           3,968\n",
      "      Bottleneck-366          [-1, 128, 16, 16]               0\n",
      "     BatchNorm2d-367          [-1, 128, 16, 16]             256\n",
      "channel_selection-368           [-1, 80, 16, 16]               0\n",
      "            ReLU-369           [-1, 80, 16, 16]               0\n",
      "          Conv2d-370           [-1, 21, 16, 16]           1,680\n",
      "     BatchNorm2d-371           [-1, 21, 16, 16]              42\n",
      "            ReLU-372           [-1, 21, 16, 16]               0\n",
      "          Conv2d-373           [-1, 32, 16, 16]           6,048\n",
      "     BatchNorm2d-374           [-1, 32, 16, 16]              64\n",
      "            ReLU-375           [-1, 32, 16, 16]               0\n",
      "          Conv2d-376          [-1, 128, 16, 16]           4,096\n",
      "      Bottleneck-377          [-1, 128, 16, 16]               0\n",
      "     BatchNorm2d-378          [-1, 128, 16, 16]             256\n",
      "channel_selection-379           [-1, 72, 16, 16]               0\n",
      "            ReLU-380           [-1, 72, 16, 16]               0\n",
      "          Conv2d-381           [-1, 21, 16, 16]           1,512\n",
      "     BatchNorm2d-382           [-1, 21, 16, 16]              42\n",
      "            ReLU-383           [-1, 21, 16, 16]               0\n",
      "          Conv2d-384           [-1, 31, 16, 16]           5,859\n",
      "     BatchNorm2d-385           [-1, 31, 16, 16]              62\n",
      "            ReLU-386           [-1, 31, 16, 16]               0\n",
      "          Conv2d-387          [-1, 128, 16, 16]           3,968\n",
      "      Bottleneck-388          [-1, 128, 16, 16]               0\n",
      "     BatchNorm2d-389          [-1, 128, 16, 16]             256\n",
      "channel_selection-390           [-1, 74, 16, 16]               0\n",
      "            ReLU-391           [-1, 74, 16, 16]               0\n",
      "          Conv2d-392           [-1, 20, 16, 16]           1,480\n",
      "     BatchNorm2d-393           [-1, 20, 16, 16]              40\n",
      "            ReLU-394           [-1, 20, 16, 16]               0\n",
      "          Conv2d-395           [-1, 31, 16, 16]           5,580\n",
      "     BatchNorm2d-396           [-1, 31, 16, 16]              62\n",
      "            ReLU-397           [-1, 31, 16, 16]               0\n",
      "          Conv2d-398          [-1, 128, 16, 16]           3,968\n",
      "      Bottleneck-399          [-1, 128, 16, 16]               0\n",
      "     BatchNorm2d-400          [-1, 128, 16, 16]             256\n",
      "channel_selection-401           [-1, 75, 16, 16]               0\n",
      "            ReLU-402           [-1, 75, 16, 16]               0\n",
      "          Conv2d-403           [-1, 37, 16, 16]           2,775\n",
      "     BatchNorm2d-404           [-1, 37, 16, 16]              74\n",
      "            ReLU-405           [-1, 37, 16, 16]               0\n",
      "          Conv2d-406             [-1, 64, 8, 8]          21,312\n",
      "     BatchNorm2d-407             [-1, 64, 8, 8]             128\n",
      "            ReLU-408             [-1, 64, 8, 8]               0\n",
      "          Conv2d-409            [-1, 256, 8, 8]          16,384\n",
      "          Conv2d-410            [-1, 256, 8, 8]          32,768\n",
      "      Bottleneck-411            [-1, 256, 8, 8]               0\n",
      "     BatchNorm2d-412            [-1, 256, 8, 8]             512\n",
      "channel_selection-413            [-1, 133, 8, 8]               0\n",
      "            ReLU-414            [-1, 133, 8, 8]               0\n",
      "          Conv2d-415             [-1, 36, 8, 8]           4,788\n",
      "     BatchNorm2d-416             [-1, 36, 8, 8]              72\n",
      "            ReLU-417             [-1, 36, 8, 8]               0\n",
      "          Conv2d-418             [-1, 64, 8, 8]          20,736\n",
      "     BatchNorm2d-419             [-1, 64, 8, 8]             128\n",
      "            ReLU-420             [-1, 64, 8, 8]               0\n",
      "          Conv2d-421            [-1, 256, 8, 8]          16,384\n",
      "      Bottleneck-422            [-1, 256, 8, 8]               0\n",
      "     BatchNorm2d-423            [-1, 256, 8, 8]             512\n",
      "channel_selection-424            [-1, 144, 8, 8]               0\n",
      "            ReLU-425            [-1, 144, 8, 8]               0\n",
      "          Conv2d-426             [-1, 38, 8, 8]           5,472\n",
      "     BatchNorm2d-427             [-1, 38, 8, 8]              76\n",
      "            ReLU-428             [-1, 38, 8, 8]               0\n",
      "          Conv2d-429             [-1, 63, 8, 8]          21,546\n",
      "     BatchNorm2d-430             [-1, 63, 8, 8]             126\n",
      "            ReLU-431             [-1, 63, 8, 8]               0\n",
      "          Conv2d-432            [-1, 256, 8, 8]          16,128\n",
      "      Bottleneck-433            [-1, 256, 8, 8]               0\n",
      "     BatchNorm2d-434            [-1, 256, 8, 8]             512\n",
      "channel_selection-435            [-1, 152, 8, 8]               0\n",
      "            ReLU-436            [-1, 152, 8, 8]               0\n",
      "          Conv2d-437             [-1, 36, 8, 8]           5,472\n",
      "     BatchNorm2d-438             [-1, 36, 8, 8]              72\n",
      "            ReLU-439             [-1, 36, 8, 8]               0\n",
      "          Conv2d-440             [-1, 64, 8, 8]          20,736\n",
      "     BatchNorm2d-441             [-1, 64, 8, 8]             128\n",
      "            ReLU-442             [-1, 64, 8, 8]               0\n",
      "          Conv2d-443            [-1, 256, 8, 8]          16,384\n",
      "      Bottleneck-444            [-1, 256, 8, 8]               0\n",
      "     BatchNorm2d-445            [-1, 256, 8, 8]             512\n",
      "channel_selection-446            [-1, 159, 8, 8]               0\n",
      "            ReLU-447            [-1, 159, 8, 8]               0\n",
      "          Conv2d-448             [-1, 35, 8, 8]           5,565\n",
      "     BatchNorm2d-449             [-1, 35, 8, 8]              70\n",
      "            ReLU-450             [-1, 35, 8, 8]               0\n",
      "          Conv2d-451             [-1, 63, 8, 8]          19,845\n",
      "     BatchNorm2d-452             [-1, 63, 8, 8]             126\n",
      "            ReLU-453             [-1, 63, 8, 8]               0\n",
      "          Conv2d-454            [-1, 256, 8, 8]          16,128\n",
      "      Bottleneck-455            [-1, 256, 8, 8]               0\n",
      "     BatchNorm2d-456            [-1, 256, 8, 8]             512\n",
      "channel_selection-457            [-1, 161, 8, 8]               0\n",
      "            ReLU-458            [-1, 161, 8, 8]               0\n",
      "          Conv2d-459             [-1, 42, 8, 8]           6,762\n",
      "     BatchNorm2d-460             [-1, 42, 8, 8]              84\n",
      "            ReLU-461             [-1, 42, 8, 8]               0\n",
      "          Conv2d-462             [-1, 64, 8, 8]          24,192\n",
      "     BatchNorm2d-463             [-1, 64, 8, 8]             128\n",
      "            ReLU-464             [-1, 64, 8, 8]               0\n",
      "          Conv2d-465            [-1, 256, 8, 8]          16,384\n",
      "      Bottleneck-466            [-1, 256, 8, 8]               0\n",
      "     BatchNorm2d-467            [-1, 256, 8, 8]             512\n",
      "channel_selection-468            [-1, 155, 8, 8]               0\n",
      "            ReLU-469            [-1, 155, 8, 8]               0\n",
      "          Conv2d-470             [-1, 31, 8, 8]           4,805\n",
      "     BatchNorm2d-471             [-1, 31, 8, 8]              62\n",
      "            ReLU-472             [-1, 31, 8, 8]               0\n",
      "          Conv2d-473             [-1, 64, 8, 8]          17,856\n",
      "     BatchNorm2d-474             [-1, 64, 8, 8]             128\n",
      "            ReLU-475             [-1, 64, 8, 8]               0\n",
      "          Conv2d-476            [-1, 256, 8, 8]          16,384\n",
      "      Bottleneck-477            [-1, 256, 8, 8]               0\n",
      "     BatchNorm2d-478            [-1, 256, 8, 8]             512\n",
      "channel_selection-479            [-1, 150, 8, 8]               0\n",
      "            ReLU-480            [-1, 150, 8, 8]               0\n",
      "          Conv2d-481             [-1, 35, 8, 8]           5,250\n",
      "     BatchNorm2d-482             [-1, 35, 8, 8]              70\n",
      "            ReLU-483             [-1, 35, 8, 8]               0\n",
      "          Conv2d-484             [-1, 64, 8, 8]          20,160\n",
      "     BatchNorm2d-485             [-1, 64, 8, 8]             128\n",
      "            ReLU-486             [-1, 64, 8, 8]               0\n",
      "          Conv2d-487            [-1, 256, 8, 8]          16,384\n",
      "      Bottleneck-488            [-1, 256, 8, 8]               0\n",
      "     BatchNorm2d-489            [-1, 256, 8, 8]             512\n",
      "channel_selection-490            [-1, 153, 8, 8]               0\n",
      "            ReLU-491            [-1, 153, 8, 8]               0\n",
      "          Conv2d-492             [-1, 35, 8, 8]           5,355\n",
      "     BatchNorm2d-493             [-1, 35, 8, 8]              70\n",
      "            ReLU-494             [-1, 35, 8, 8]               0\n",
      "          Conv2d-495             [-1, 63, 8, 8]          19,845\n",
      "     BatchNorm2d-496             [-1, 63, 8, 8]             126\n",
      "            ReLU-497             [-1, 63, 8, 8]               0\n",
      "          Conv2d-498            [-1, 256, 8, 8]          16,128\n",
      "      Bottleneck-499            [-1, 256, 8, 8]               0\n",
      "     BatchNorm2d-500            [-1, 256, 8, 8]             512\n",
      "channel_selection-501            [-1, 155, 8, 8]               0\n",
      "            ReLU-502            [-1, 155, 8, 8]               0\n",
      "          Conv2d-503             [-1, 34, 8, 8]           5,270\n",
      "     BatchNorm2d-504             [-1, 34, 8, 8]              68\n",
      "            ReLU-505             [-1, 34, 8, 8]               0\n",
      "          Conv2d-506             [-1, 64, 8, 8]          19,584\n",
      "     BatchNorm2d-507             [-1, 64, 8, 8]             128\n",
      "            ReLU-508             [-1, 64, 8, 8]               0\n",
      "          Conv2d-509            [-1, 256, 8, 8]          16,384\n",
      "      Bottleneck-510            [-1, 256, 8, 8]               0\n",
      "     BatchNorm2d-511            [-1, 256, 8, 8]             512\n",
      "channel_selection-512            [-1, 157, 8, 8]               0\n",
      "            ReLU-513            [-1, 157, 8, 8]               0\n",
      "          Conv2d-514             [-1, 40, 8, 8]           6,280\n",
      "     BatchNorm2d-515             [-1, 40, 8, 8]              80\n",
      "            ReLU-516             [-1, 40, 8, 8]               0\n",
      "          Conv2d-517             [-1, 64, 8, 8]          23,040\n",
      "     BatchNorm2d-518             [-1, 64, 8, 8]             128\n",
      "            ReLU-519             [-1, 64, 8, 8]               0\n",
      "          Conv2d-520            [-1, 256, 8, 8]          16,384\n",
      "      Bottleneck-521            [-1, 256, 8, 8]               0\n",
      "     BatchNorm2d-522            [-1, 256, 8, 8]             512\n",
      "channel_selection-523            [-1, 155, 8, 8]               0\n",
      "            ReLU-524            [-1, 155, 8, 8]               0\n",
      "          Conv2d-525             [-1, 37, 8, 8]           5,735\n",
      "     BatchNorm2d-526             [-1, 37, 8, 8]              74\n",
      "            ReLU-527             [-1, 37, 8, 8]               0\n",
      "          Conv2d-528             [-1, 63, 8, 8]          20,979\n",
      "     BatchNorm2d-529             [-1, 63, 8, 8]             126\n",
      "            ReLU-530             [-1, 63, 8, 8]               0\n",
      "          Conv2d-531            [-1, 256, 8, 8]          16,128\n",
      "      Bottleneck-532            [-1, 256, 8, 8]               0\n",
      "     BatchNorm2d-533            [-1, 256, 8, 8]             512\n",
      "channel_selection-534            [-1, 151, 8, 8]               0\n",
      "            ReLU-535            [-1, 151, 8, 8]               0\n",
      "          Conv2d-536             [-1, 38, 8, 8]           5,738\n",
      "     BatchNorm2d-537             [-1, 38, 8, 8]              76\n",
      "            ReLU-538             [-1, 38, 8, 8]               0\n",
      "          Conv2d-539             [-1, 64, 8, 8]          21,888\n",
      "     BatchNorm2d-540             [-1, 64, 8, 8]             128\n",
      "            ReLU-541             [-1, 64, 8, 8]               0\n",
      "          Conv2d-542            [-1, 256, 8, 8]          16,384\n",
      "      Bottleneck-543            [-1, 256, 8, 8]               0\n",
      "     BatchNorm2d-544            [-1, 256, 8, 8]             512\n",
      "channel_selection-545            [-1, 158, 8, 8]               0\n",
      "            ReLU-546            [-1, 158, 8, 8]               0\n",
      "          Conv2d-547             [-1, 39, 8, 8]           6,162\n",
      "     BatchNorm2d-548             [-1, 39, 8, 8]              78\n",
      "            ReLU-549             [-1, 39, 8, 8]               0\n",
      "          Conv2d-550             [-1, 64, 8, 8]          22,464\n",
      "     BatchNorm2d-551             [-1, 64, 8, 8]             128\n",
      "            ReLU-552             [-1, 64, 8, 8]               0\n",
      "          Conv2d-553            [-1, 256, 8, 8]          16,384\n",
      "      Bottleneck-554            [-1, 256, 8, 8]               0\n",
      "     BatchNorm2d-555            [-1, 256, 8, 8]             512\n",
      "channel_selection-556            [-1, 149, 8, 8]               0\n",
      "            ReLU-557            [-1, 149, 8, 8]               0\n",
      "          Conv2d-558             [-1, 36, 8, 8]           5,364\n",
      "     BatchNorm2d-559             [-1, 36, 8, 8]              72\n",
      "            ReLU-560             [-1, 36, 8, 8]               0\n",
      "          Conv2d-561             [-1, 64, 8, 8]          20,736\n",
      "     BatchNorm2d-562             [-1, 64, 8, 8]             128\n",
      "            ReLU-563             [-1, 64, 8, 8]               0\n",
      "          Conv2d-564            [-1, 256, 8, 8]          16,384\n",
      "      Bottleneck-565            [-1, 256, 8, 8]               0\n",
      "     BatchNorm2d-566            [-1, 256, 8, 8]             512\n",
      "channel_selection-567            [-1, 160, 8, 8]               0\n",
      "            ReLU-568            [-1, 160, 8, 8]               0\n",
      "          Conv2d-569             [-1, 33, 8, 8]           5,280\n",
      "     BatchNorm2d-570             [-1, 33, 8, 8]              66\n",
      "            ReLU-571             [-1, 33, 8, 8]               0\n",
      "          Conv2d-572             [-1, 63, 8, 8]          18,711\n",
      "     BatchNorm2d-573             [-1, 63, 8, 8]             126\n",
      "            ReLU-574             [-1, 63, 8, 8]               0\n",
      "          Conv2d-575            [-1, 256, 8, 8]          16,128\n",
      "      Bottleneck-576            [-1, 256, 8, 8]               0\n",
      "     BatchNorm2d-577            [-1, 256, 8, 8]             512\n",
      "channel_selection-578            [-1, 154, 8, 8]               0\n",
      "            ReLU-579            [-1, 154, 8, 8]               0\n",
      "          Conv2d-580             [-1, 38, 8, 8]           5,852\n",
      "     BatchNorm2d-581             [-1, 38, 8, 8]              76\n",
      "            ReLU-582             [-1, 38, 8, 8]               0\n",
      "          Conv2d-583             [-1, 63, 8, 8]          21,546\n",
      "     BatchNorm2d-584             [-1, 63, 8, 8]             126\n",
      "            ReLU-585             [-1, 63, 8, 8]               0\n",
      "          Conv2d-586            [-1, 256, 8, 8]          16,128\n",
      "      Bottleneck-587            [-1, 256, 8, 8]               0\n",
      "     BatchNorm2d-588            [-1, 256, 8, 8]             512\n",
      "channel_selection-589            [-1, 143, 8, 8]               0\n",
      "            ReLU-590            [-1, 143, 8, 8]               0\n",
      "          Conv2d-591             [-1, 31, 8, 8]           4,433\n",
      "     BatchNorm2d-592             [-1, 31, 8, 8]              62\n",
      "            ReLU-593             [-1, 31, 8, 8]               0\n",
      "          Conv2d-594             [-1, 64, 8, 8]          17,856\n",
      "     BatchNorm2d-595             [-1, 64, 8, 8]             128\n",
      "            ReLU-596             [-1, 64, 8, 8]               0\n",
      "          Conv2d-597            [-1, 256, 8, 8]          16,384\n",
      "      Bottleneck-598            [-1, 256, 8, 8]               0\n",
      "     BatchNorm2d-599            [-1, 256, 8, 8]             512\n",
      "channel_selection-600            [-1, 229, 8, 8]               0\n",
      "            ReLU-601            [-1, 229, 8, 8]               0\n",
      "       AvgPool2d-602            [-1, 229, 1, 1]               0\n",
      "          Linear-603                   [-1, 10]           2,300\n",
      "================================================================\n",
      "Total params: 1,081,831\n",
      "Trainable params: 1,081,831\n",
      "Non-trainable params: 0\n",
      "----------------------------------------------------------------\n",
      "Input size (MB): 0.01\n",
      "Forward/backward pass size (MB): 85.56\n",
      "Params size (MB): 4.13\n",
      "Estimated Total Size (MB): 89.70\n",
      "----------------------------------------------------------------\n"
     ]
    }
   ],
   "source": [
    "model_prune_once.cuda()\n",
    "summary(model_prune_once,(3,32,32))"
   ]
  },
  {
   "cell_type": "code",
   "execution_count": null,
   "metadata": {},
   "outputs": [],
   "source": []
  },
  {
   "cell_type": "code",
   "execution_count": null,
   "metadata": {},
   "outputs": [],
   "source": []
  }
 ],
 "metadata": {
  "kernelspec": {
   "display_name": "Python 3",
   "language": "python",
   "name": "python3"
  },
  "language_info": {
   "codemirror_mode": {
    "name": "ipython",
    "version": 3
   },
   "file_extension": ".py",
   "mimetype": "text/x-python",
   "name": "python",
   "nbconvert_exporter": "python",
   "pygments_lexer": "ipython3",
   "version": "3.7.4"
  }
 },
 "nbformat": 4,
 "nbformat_minor": 2
}
